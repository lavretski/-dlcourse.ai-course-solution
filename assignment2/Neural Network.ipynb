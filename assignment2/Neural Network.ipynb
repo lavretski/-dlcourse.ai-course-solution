{
 "cells": [
  {
   "cell_type": "markdown",
   "metadata": {},
   "source": [
    "# Задание 2.1 - Нейронные сети\n",
    "\n",
    "В этом задании вы реализуете и натренируете настоящую нейроную сеть своими руками!\n",
    "\n",
    "В некотором смысле это будет расширением прошлого задания - нам нужно просто составить несколько линейных классификаторов вместе!\n",
    "\n",
    "<img src=\"https://i.redd.it/n9fgba8b0qr01.png\" alt=\"Stack_more_layers\" width=\"400px\"/>"
   ]
  },
  {
   "cell_type": "code",
   "execution_count": 4,
   "metadata": {},
   "outputs": [],
   "source": [
    "import numpy as np\n",
    "import matplotlib.pyplot as plt\n",
    "\n",
    "%matplotlib inline\n",
    "\n",
    "%load_ext autoreload\n",
    "%autoreload 2"
   ]
  },
  {
   "cell_type": "code",
   "execution_count": 5,
   "metadata": {},
   "outputs": [],
   "source": [
    "from dataset import load_svhn, random_split_train_val\n",
    "from gradient_check import check_layer_gradient, check_layer_param_gradient, check_model_gradient\n",
    "from layers import FullyConnectedLayer, ReLULayer\n",
    "from model import TwoLayerNet\n",
    "from trainer import Trainer, Dataset\n",
    "from optim import SGD, MomentumSGD\n",
    "from metrics import multiclass_accuracy"
   ]
  },
  {
   "cell_type": "markdown",
   "metadata": {},
   "source": [
    "# Загружаем данные\n",
    "\n",
    "И разделяем их на training и validation."
   ]
  },
  {
   "cell_type": "code",
   "execution_count": 6,
   "metadata": {},
   "outputs": [
    {
     "name": "stderr",
     "output_type": "stream",
     "text": [
      "C:\\Users\\lavre\\AppData\\Local\\Temp\\ipykernel_16760\\4113099837.py:2: DeprecationWarning: `np.float` is a deprecated alias for the builtin `float`. To silence this warning, use `float` by itself. Doing this will not modify any behavior and is safe. If you specifically wanted the numpy scalar type, use `np.float64` here.\n",
      "Deprecated in NumPy 1.20; for more details and guidance: https://numpy.org/devdocs/release/1.20.0-notes.html#deprecations\n",
      "  train_flat = train_X.reshape(train_X.shape[0], -1).astype(np.float) / 255.0\n",
      "C:\\Users\\lavre\\AppData\\Local\\Temp\\ipykernel_16760\\4113099837.py:3: DeprecationWarning: `np.float` is a deprecated alias for the builtin `float`. To silence this warning, use `float` by itself. Doing this will not modify any behavior and is safe. If you specifically wanted the numpy scalar type, use `np.float64` here.\n",
      "Deprecated in NumPy 1.20; for more details and guidance: https://numpy.org/devdocs/release/1.20.0-notes.html#deprecations\n",
      "  test_flat = test_X.reshape(test_X.shape[0], -1).astype(np.float) / 255.0\n"
     ]
    }
   ],
   "source": [
    "def prepare_for_neural_network(train_X, test_X):\n",
    "    train_flat = train_X.reshape(train_X.shape[0], -1).astype(np.float) / 255.0\n",
    "    test_flat = test_X.reshape(test_X.shape[0], -1).astype(np.float) / 255.0\n",
    "    \n",
    "    # Subtract mean\n",
    "    mean_image = np.mean(train_flat, axis = 0)\n",
    "    train_flat -= mean_image\n",
    "    test_flat -= mean_image\n",
    "    \n",
    "    return train_flat, test_flat\n",
    "    \n",
    "train_X, train_y, test_X, test_y = load_svhn(\"data\", max_train=10000, max_test=1000)    \n",
    "train_X, test_X = prepare_for_neural_network(train_X, test_X)\n",
    "# Split train into train and val\n",
    "train_X, train_y, val_X, val_y = random_split_train_val(train_X, train_y, num_val = 1000)"
   ]
  },
  {
   "cell_type": "markdown",
   "metadata": {},
   "source": [
    "# Как всегда, начинаем с кирпичиков\n",
    "\n",
    "Мы будем реализовывать необходимые нам слои по очереди. Каждый слой должен реализовать:\n",
    "- прямой проход (forward pass), который генерирует выход слоя по входу и запоминает необходимые данные\n",
    "- обратный проход (backward pass), который получает градиент по выходу слоя и вычисляет градиент по входу и по параметрам\n",
    "\n",
    "Начнем с ReLU, у которого параметров нет."
   ]
  },
  {
   "cell_type": "code",
   "execution_count": 4,
   "metadata": {
    "scrolled": false
   },
   "outputs": [
    {
     "name": "stdout",
     "output_type": "stream",
     "text": [
      "Gradient check passed!\n"
     ]
    }
   ],
   "source": [
    "# TODO: Implement ReLULayer layer in layers.py\n",
    "# Note: you'll need to copy implementation of the gradient_check function from the previous assignment\n",
    "\n",
    "X = np.array([[1,-2,3],\n",
    "              [-1, 2, 0.1]\n",
    "              ])\n",
    "# W = 0.001 * np.random.randn(3, 4)\n",
    "#\n",
    "# print(X@W)\n",
    "assert check_layer_gradient(ReLULayer(), X)"
   ]
  },
  {
   "cell_type": "markdown",
   "metadata": {},
   "source": [
    "А теперь реализуем полносвязный слой (fully connected layer), у которого будет два массива параметров: W (weights) и B (bias).\n",
    "\n",
    "Все параметры наши слои будут использовать для параметров специальный класс `Param`, в котором будут храниться значения параметров и градиенты этих параметров, вычисляемые во время обратного прохода.\n",
    "\n",
    "Это даст возможность аккумулировать (суммировать) градиенты из разных частей функции потерь, например, из cross-entropy loss и regularization loss."
   ]
  },
  {
   "cell_type": "code",
   "execution_count": 5,
   "metadata": {},
   "outputs": [
    {
     "name": "stdout",
     "output_type": "stream",
     "text": [
      "Gradient check passed!\n",
      "Gradient check passed!\n",
      "Gradient check passed!\n"
     ]
    }
   ],
   "source": [
    "# TODO: Implement FullyConnected layer forward and backward methods\n",
    "assert check_layer_gradient(FullyConnectedLayer(3, 4), X)\n",
    "# TODO: Implement storing gradients for W and B\n",
    "assert check_layer_param_gradient(FullyConnectedLayer(3, 4), X, 'W')\n",
    "assert check_layer_param_gradient(FullyConnectedLayer(3, 4), X, 'B')"
   ]
  },
  {
   "cell_type": "markdown",
   "metadata": {},
   "source": [
    "## Создаем нейронную сеть\n",
    "\n",
    "Теперь мы реализуем простейшую нейронную сеть с двумя полносвязным слоями и нелинейностью ReLU. Реализуйте функцию `compute_loss_and_gradients`, она должна запустить прямой и обратный проход через оба слоя для вычисления градиентов.\n",
    "\n",
    "Не забудьте реализовать очистку градиентов в начале функции."
   ]
  },
  {
   "cell_type": "code",
   "execution_count": 6,
   "metadata": {},
   "outputs": [
    {
     "name": "stdout",
     "output_type": "stream",
     "text": [
      "Checking gradient for W_layer1\n",
      "Gradient check passed!\n",
      "Checking gradient for B_layer1\n",
      "Gradient check passed!\n",
      "Checking gradient for W_layer2\n",
      "Gradient check passed!\n",
      "Checking gradient for B_layer2\n",
      "Gradient check passed!\n"
     ]
    },
    {
     "data": {
      "text/plain": "True"
     },
     "execution_count": 6,
     "metadata": {},
     "output_type": "execute_result"
    }
   ],
   "source": [
    "# TODO: In model.py, implement compute_loss_and_gradients function\n",
    "model = TwoLayerNet(n_input = train_X.shape[1], n_output = 10, hidden_layer_size = 3, reg = 1)\n",
    "loss = model.compute_loss_and_gradients(train_X[:2], train_y[:2])\n",
    "# TODO Now implement backward pass and aggregate all of the params\n",
    "check_model_gradient(model, train_X[:2], train_y[:2])"
   ]
  },
  {
   "cell_type": "markdown",
   "metadata": {},
   "source": [
    "Теперь добавьте к модели регуляризацию - она должна прибавляться к loss и делать свой вклад в градиенты."
   ]
  },
  {
   "cell_type": "code",
   "execution_count": 7,
   "metadata": {},
   "outputs": [
    {
     "name": "stdout",
     "output_type": "stream",
     "text": [
      "Checking gradient for W_layer1\n",
      "Gradient check passed!\n",
      "Checking gradient for B_layer1\n",
      "Gradient check passed!\n",
      "Checking gradient for W_layer2\n",
      "Gradient check passed!\n",
      "Checking gradient for B_layer2\n",
      "Gradient check passed!\n"
     ]
    },
    {
     "data": {
      "text/plain": "True"
     },
     "execution_count": 7,
     "metadata": {},
     "output_type": "execute_result"
    }
   ],
   "source": [
    "# TODO Now implement l2 regularization in the forward and backward pass\n",
    "model_with_reg = TwoLayerNet(n_input = train_X.shape[1], n_output = 10, hidden_layer_size = 3, reg = 1e1)\n",
    "loss_with_reg = model_with_reg.compute_loss_and_gradients(train_X[:2], train_y[:2])\n",
    "assert loss_with_reg > loss and not np.isclose(loss_with_reg, loss), \\\n",
    "    \"Loss with regularization (%2.4f) should be higher than without it (%2.4f)!\" % (loss, loss_with_reg)\n",
    "\n",
    "check_model_gradient(model_with_reg, train_X[:2], train_y[:2])"
   ]
  },
  {
   "cell_type": "markdown",
   "metadata": {},
   "source": [
    "Также реализуем функцию предсказания (вычисления значения) модели на новых данных.\n",
    "\n",
    "Какое значение точности мы ожидаем увидеть до начала тренировки?"
   ]
  },
  {
   "cell_type": "code",
   "execution_count": 8,
   "metadata": {},
   "outputs": [
    {
     "data": {
      "text/plain": "0.1"
     },
     "execution_count": 8,
     "metadata": {},
     "output_type": "execute_result"
    }
   ],
   "source": [
    "# Finally, implement predict function!\n",
    "\n",
    "# TODO: Implement predict function\n",
    "# What would be the value we expect?\n",
    "multiclass_accuracy(model_with_reg.predict(train_X[:30]), train_y[:30]) "
   ]
  },
  {
   "cell_type": "markdown",
   "metadata": {},
   "source": [
    "# Допишем код для процесса тренировки\n",
    "\n",
    "Если все реализовано корректно, значение функции ошибки должно уменьшаться с каждой эпохой, пусть и медленно. Не беспокойтесь пока про validation accuracy."
   ]
  },
  {
   "cell_type": "code",
   "execution_count": 9,
   "metadata": {},
   "outputs": [],
   "source": [
    "model = TwoLayerNet(n_input = train_X.shape[1], n_output = 10, hidden_layer_size = 100, reg = 1e1)\n",
    "dataset = Dataset(train_X, train_y, val_X, val_y)\n",
    "trainer = Trainer(model, dataset, SGD(), learning_rate = 1e-5)\n",
    "\n",
    "# TODO Implement missing pieces in Trainer.fit function\n",
    "# You should expect loss to go down every epoch, even if it's slow\n",
    "loss_history, train_history, val_history = trainer.fit()"
   ]
  },
  {
   "cell_type": "code",
   "execution_count": 10,
   "metadata": {},
   "outputs": [
    {
     "data": {
      "text/plain": "[<matplotlib.lines.Line2D at 0x1e2b92301c0>]"
     },
     "execution_count": 10,
     "metadata": {},
     "output_type": "execute_result"
    },
    {
     "data": {
      "text/plain": "<Figure size 640x480 with 1 Axes>",
      "image/png": "[encoded data removed]"
     },
     "metadata": {},
     "output_type": "display_data"
    }
   ],
   "source": [
    "plt.plot(train_history)\n",
    "plt.plot(val_history)"
   ]
  },
  {
   "cell_type": "markdown",
   "metadata": {},
   "source": [
    "# Улучшаем процесс тренировки\n",
    "\n",
    "Мы реализуем несколько ключевых оптимизаций, необходимых для тренировки современных нейросетей."
   ]
  },
  {
   "cell_type": "markdown",
   "metadata": {},
   "source": [
    "## Уменьшение скорости обучения (learning rate decay)\n",
    "\n",
    "Одна из необходимых оптимизаций во время тренировки нейронных сетей - постепенное уменьшение скорости обучения по мере тренировки.\n",
    "\n",
    "Один из стандартных методов - уменьшение скорости обучения (learning rate) каждые N эпох на коэффициент d (часто называемый decay). Значения N и d, как всегда, являются гиперпараметрами и должны подбираться на основе эффективности на проверочных данных (validation data). \n",
    "\n",
    "В нашем случае N будет равным 1."
   ]
  },
  {
   "cell_type": "code",
   "execution_count": 18,
   "metadata": {},
   "outputs": [
    {
     "name": "stdout",
     "output_type": "stream",
     "text": [
      "epoch 0 Loss: 2.230052, Train accuracy: 0.196667, val accuracy: 0.206000\n",
      "epoch 1 Loss: 2.302362, Train accuracy: 0.196667, val accuracy: 0.206000\n",
      "epoch 2 Loss: 2.383918, Train accuracy: 0.196667, val accuracy: 0.206000\n",
      "epoch 3 Loss: 2.117315, Train accuracy: 0.196667, val accuracy: 0.206000\n",
      "epoch 4 Loss: 2.320605, Train accuracy: 0.196667, val accuracy: 0.206000\n",
      "epoch 5 Loss: 2.209835, Train accuracy: 0.196667, val accuracy: 0.206000\n",
      "epoch 6 Loss: 2.243155, Train accuracy: 0.196667, val accuracy: 0.206000\n",
      "epoch 7 Loss: 2.424083, Train accuracy: 0.196667, val accuracy: 0.206000\n",
      "epoch 8 Loss: 2.148015, Train accuracy: 0.202444, val accuracy: 0.209000\n",
      "epoch 9 Loss: 1.984886, Train accuracy: 0.227111, val accuracy: 0.227000\n",
      "epoch 10 Loss: 2.128884, Train accuracy: 0.248556, val accuracy: 0.250000\n",
      "epoch 11 Loss: 2.058508, Train accuracy: 0.267556, val accuracy: 0.267000\n",
      "epoch 12 Loss: 2.004089, Train accuracy: 0.277222, val accuracy: 0.275000\n"
     ]
    },
    {
     "ename": "KeyboardInterrupt",
     "evalue": "",
     "output_type": "error",
     "traceback": [
      "\u001B[1;31m---------------------------------------------------------------------------\u001B[0m",
      "\u001B[1;31mKeyboardInterrupt\u001B[0m                         Traceback (most recent call last)",
      "Cell \u001B[1;32mIn [18], line 9\u001B[0m\n\u001B[0;32m      6\u001B[0m trainer \u001B[38;5;241m=\u001B[39m Trainer(model1, dataset, SGD(), learning_rate_decay\u001B[38;5;241m=\u001B[39m\u001B[38;5;241m0.99\u001B[39m, learning_rate\u001B[38;5;241m=\u001B[39m\u001B[38;5;241m1e-2\u001B[39m)\n\u001B[0;32m      8\u001B[0m initial_learning_rate \u001B[38;5;241m=\u001B[39m trainer\u001B[38;5;241m.\u001B[39mlearning_rate\n\u001B[1;32m----> 9\u001B[0m loss_history, train_history, val_history \u001B[38;5;241m=\u001B[39m \u001B[43mtrainer\u001B[49m\u001B[38;5;241;43m.\u001B[39;49m\u001B[43mfit\u001B[49m\u001B[43m(\u001B[49m\u001B[43m)\u001B[49m\n\u001B[0;32m     11\u001B[0m \u001B[38;5;28;01massert\u001B[39;00m trainer\u001B[38;5;241m.\u001B[39mlearning_rate \u001B[38;5;241m<\u001B[39m initial_learning_rate, \u001B[38;5;124m\"\u001B[39m\u001B[38;5;124mLearning rate should\u001B[39m\u001B[38;5;124m'\u001B[39m\u001B[38;5;124mve been reduced\u001B[39m\u001B[38;5;124m\"\u001B[39m\n\u001B[0;32m     12\u001B[0m \u001B[38;5;28;01massert\u001B[39;00m trainer\u001B[38;5;241m.\u001B[39mlearning_rate \u001B[38;5;241m>\u001B[39m \u001B[38;5;241m0.5\u001B[39m\u001B[38;5;241m*\u001B[39minitial_learning_rate, \u001B[38;5;124m\"\u001B[39m\u001B[38;5;124mLearning rate shouldn\u001B[39m\u001B[38;5;124m'\u001B[39m\u001B[38;5;124mtve been reduced that much!\u001B[39m\u001B[38;5;124m\"\u001B[39m\n",
      "File \u001B[1;32m~\\Desktop\\dlcourse_ai\\assignments\\assignment2\\trainer.py:99\u001B[0m, in \u001B[0;36mTrainer.fit\u001B[1;34m(self)\u001B[0m\n\u001B[0;32m     96\u001B[0m batch_losses \u001B[38;5;241m=\u001B[39m []\n\u001B[0;32m     98\u001B[0m \u001B[38;5;28;01mfor\u001B[39;00m batch_indices \u001B[38;5;129;01min\u001B[39;00m batches_indices:\n\u001B[1;32m---> 99\u001B[0m     loss \u001B[38;5;241m=\u001B[39m \u001B[38;5;28;43mself\u001B[39;49m\u001B[38;5;241;43m.\u001B[39;49m\u001B[43mmodel\u001B[49m\u001B[38;5;241;43m.\u001B[39;49m\u001B[43mcompute_loss_and_gradients\u001B[49m\u001B[43m(\u001B[49m\u001B[38;5;28;43mself\u001B[39;49m\u001B[38;5;241;43m.\u001B[39;49m\u001B[43mdataset\u001B[49m\u001B[38;5;241;43m.\u001B[39;49m\u001B[43mtrain_X\u001B[49m\u001B[43m[\u001B[49m\u001B[43mbatch_indices\u001B[49m\u001B[43m]\u001B[49m\u001B[43m,\u001B[49m\u001B[43m \u001B[49m\u001B[38;5;28;43mself\u001B[39;49m\u001B[38;5;241;43m.\u001B[39;49m\u001B[43mdataset\u001B[49m\u001B[38;5;241;43m.\u001B[39;49m\u001B[43mtrain_y\u001B[49m\u001B[43m[\u001B[49m\u001B[43mbatch_indices\u001B[49m\u001B[43m]\u001B[49m\u001B[43m)\u001B[49m\n\u001B[0;32m    101\u001B[0m     \u001B[38;5;28;01mfor\u001B[39;00m param_name, param \u001B[38;5;129;01min\u001B[39;00m \u001B[38;5;28mself\u001B[39m\u001B[38;5;241m.\u001B[39mmodel\u001B[38;5;241m.\u001B[39mparams()\u001B[38;5;241m.\u001B[39mitems():\n\u001B[0;32m    102\u001B[0m         optimizer \u001B[38;5;241m=\u001B[39m \u001B[38;5;28mself\u001B[39m\u001B[38;5;241m.\u001B[39moptimizers[param_name]\n",
      "File \u001B[1;32m~\\Desktop\\dlcourse_ai\\assignments\\assignment2\\model.py:40\u001B[0m, in \u001B[0;36mTwoLayerNet.compute_loss_and_gradients\u001B[1;34m(self, X, y)\u001B[0m\n\u001B[0;32m     37\u001B[0m     param \u001B[38;5;241m=\u001B[39m params[param_key]\n\u001B[0;32m     38\u001B[0m     param\u001B[38;5;241m.\u001B[39mgrad \u001B[38;5;241m=\u001B[39m np\u001B[38;5;241m.\u001B[39mzeros_like(param\u001B[38;5;241m.\u001B[39mgrad)\n\u001B[1;32m---> 40\u001B[0m loss, d_out \u001B[38;5;241m=\u001B[39m softmax_with_cross_entropy(\u001B[38;5;28mself\u001B[39m\u001B[38;5;241m.\u001B[39mlayer2\u001B[38;5;241m.\u001B[39mforward(\u001B[38;5;28mself\u001B[39m\u001B[38;5;241m.\u001B[39mrelu1\u001B[38;5;241m.\u001B[39mforward(\u001B[38;5;28;43mself\u001B[39;49m\u001B[38;5;241;43m.\u001B[39;49m\u001B[43mlayer1\u001B[49m\u001B[38;5;241;43m.\u001B[39;49m\u001B[43mforward\u001B[49m\u001B[43m(\u001B[49m\u001B[43mX\u001B[49m\u001B[43m)\u001B[49m)), y)\n\u001B[0;32m     41\u001B[0m \u001B[38;5;28mself\u001B[39m\u001B[38;5;241m.\u001B[39mlayer1\u001B[38;5;241m.\u001B[39mbackward(\u001B[38;5;28mself\u001B[39m\u001B[38;5;241m.\u001B[39mrelu1\u001B[38;5;241m.\u001B[39mbackward(\u001B[38;5;28mself\u001B[39m\u001B[38;5;241m.\u001B[39mlayer2\u001B[38;5;241m.\u001B[39mbackward(d_out)))\n\u001B[0;32m     43\u001B[0m \u001B[38;5;28;01mfor\u001B[39;00m param_key \u001B[38;5;129;01min\u001B[39;00m params:\n",
      "\u001B[1;31mKeyboardInterrupt\u001B[0m: "
     ]
    }
   ],
   "source": [
    "# TODO Implement learning rate decay inside Trainer.fit method\n",
    "# Decay should happen once per epoch\n",
    "\n",
    "model1 = TwoLayerNet(n_input = train_X.shape[1], n_output = 10, hidden_layer_size = 100, reg = 0)\n",
    "dataset = Dataset(train_X, train_y, val_X, val_y)\n",
    "trainer = Trainer(model1, dataset, SGD(), learning_rate_decay=0.99, learning_rate=1e-2)\n",
    "\n",
    "initial_learning_rate = trainer.learning_rate\n",
    "loss_history, train_history, val_history = trainer.fit()\n",
    "\n",
    "assert trainer.learning_rate < initial_learning_rate, \"Learning rate should've been reduced\"\n",
    "assert trainer.learning_rate > 0.5*initial_learning_rate, \"Learning rate shouldn'tve been reduced that much!\""
   ]
  },
  {
   "cell_type": "markdown",
   "metadata": {},
   "source": [
    "# Накопление импульса (Momentum SGD)\n",
    "\n",
    "Другой большой класс оптимизаций - использование более эффективных методов градиентного спуска. Мы реализуем один из них - накопление импульса (Momentum SGD).\n",
    "\n",
    "Этот метод хранит скорость движения, использует градиент для ее изменения на каждом шаге, и изменяет веса пропорционально значению скорости.\n",
    "(Физическая аналогия: Вместо скорости градиенты теперь будут задавать ускорение, но будет присутствовать сила трения.)\n",
    "\n",
    "```\n",
    "velocity = momentum * velocity - learning_rate * gradient \n",
    "w = w + velocity\n",
    "```\n",
    "\n",
    "`momentum` здесь коэффициент затухания, который тоже является гиперпараметром (к счастью, для него часто есть хорошее значение по умолчанию, типичный диапазон -- 0.8-0.99).\n",
    "\n",
    "Несколько полезных ссылок, где метод разбирается более подробно:  \n",
    "http://cs231n.github.io/neural-networks-3/#sgd  \n",
    "https://distill.pub/2017/momentum/"
   ]
  },
  {
   "cell_type": "code",
   "execution_count": 19,
   "metadata": {},
   "outputs": [
    {
     "name": "stdout",
     "output_type": "stream",
     "text": [
      "epoch 0 Loss: 2.264592, Train accuracy: 0.196667, val accuracy: 0.206000\n",
      "epoch 1 Loss: 1.900754, Train accuracy: 0.409222, val accuracy: 0.400000\n",
      "epoch 2 Loss: 1.634913, Train accuracy: 0.522667, val accuracy: 0.526000\n"
     ]
    },
    {
     "ename": "KeyboardInterrupt",
     "evalue": "",
     "output_type": "error",
     "traceback": [
      "\u001B[1;31m---------------------------------------------------------------------------\u001B[0m",
      "\u001B[1;31mKeyboardInterrupt\u001B[0m                         Traceback (most recent call last)",
      "Cell \u001B[1;32mIn [19], line 8\u001B[0m\n\u001B[0;32m      5\u001B[0m trainer \u001B[38;5;241m=\u001B[39m Trainer(model, dataset, MomentumSGD(), learning_rate\u001B[38;5;241m=\u001B[39m\u001B[38;5;241m1e-2\u001B[39m, learning_rate_decay\u001B[38;5;241m=\u001B[39m\u001B[38;5;241m0.99\u001B[39m)\n\u001B[0;32m      7\u001B[0m \u001B[38;5;66;03m# You should see even better results than before!\u001B[39;00m\n\u001B[1;32m----> 8\u001B[0m loss_history, train_history, val_history \u001B[38;5;241m=\u001B[39m \u001B[43mtrainer\u001B[49m\u001B[38;5;241;43m.\u001B[39;49m\u001B[43mfit\u001B[49m\u001B[43m(\u001B[49m\u001B[43m)\u001B[49m\n",
      "File \u001B[1;32m~\\Desktop\\dlcourse_ai\\assignments\\assignment2\\trainer.py:112\u001B[0m, in \u001B[0;36mTrainer.fit\u001B[1;34m(self)\u001B[0m\n\u001B[0;32m    108\u001B[0m     \u001B[38;5;28mself\u001B[39m\u001B[38;5;241m.\u001B[39mlearning_rate\u001B[38;5;241m*\u001B[39m\u001B[38;5;241m=\u001B[39m\u001B[38;5;28mself\u001B[39m\u001B[38;5;241m.\u001B[39mlearning_rate_decay\n\u001B[0;32m    110\u001B[0m ave_loss \u001B[38;5;241m=\u001B[39m np\u001B[38;5;241m.\u001B[39mmean(batch_losses)\n\u001B[1;32m--> 112\u001B[0m train_accuracy \u001B[38;5;241m=\u001B[39m \u001B[38;5;28;43mself\u001B[39;49m\u001B[38;5;241;43m.\u001B[39;49m\u001B[43mcompute_accuracy\u001B[49m\u001B[43m(\u001B[49m\u001B[38;5;28;43mself\u001B[39;49m\u001B[38;5;241;43m.\u001B[39;49m\u001B[43mdataset\u001B[49m\u001B[38;5;241;43m.\u001B[39;49m\u001B[43mtrain_X\u001B[49m\u001B[43m,\u001B[49m\n\u001B[0;32m    113\u001B[0m \u001B[43m                                       \u001B[49m\u001B[38;5;28;43mself\u001B[39;49m\u001B[38;5;241;43m.\u001B[39;49m\u001B[43mdataset\u001B[49m\u001B[38;5;241;43m.\u001B[39;49m\u001B[43mtrain_y\u001B[49m\u001B[43m)\u001B[49m\n\u001B[0;32m    115\u001B[0m val_accuracy \u001B[38;5;241m=\u001B[39m \u001B[38;5;28mself\u001B[39m\u001B[38;5;241m.\u001B[39mcompute_accuracy(\u001B[38;5;28mself\u001B[39m\u001B[38;5;241m.\u001B[39mdataset\u001B[38;5;241m.\u001B[39mval_X,\n\u001B[0;32m    116\u001B[0m                                      \u001B[38;5;28mself\u001B[39m\u001B[38;5;241m.\u001B[39mdataset\u001B[38;5;241m.\u001B[39mval_y)\n\u001B[0;32m    118\u001B[0m \u001B[38;5;28mprint\u001B[39m(\u001B[38;5;124m\"\u001B[39m\u001B[38;5;124mepoch \u001B[39m\u001B[38;5;132;01m%d\u001B[39;00m\u001B[38;5;124m Loss: \u001B[39m\u001B[38;5;132;01m%f\u001B[39;00m\u001B[38;5;124m, Train accuracy: \u001B[39m\u001B[38;5;132;01m%f\u001B[39;00m\u001B[38;5;124m, val accuracy: \u001B[39m\u001B[38;5;132;01m%f\u001B[39;00m\u001B[38;5;124m\"\u001B[39m \u001B[38;5;241m%\u001B[39m\n\u001B[0;32m    119\u001B[0m       (epoch, batch_losses[\u001B[38;5;241m-\u001B[39m\u001B[38;5;241m1\u001B[39m], train_accuracy, val_accuracy))\n",
      "File \u001B[1;32m~\\Desktop\\dlcourse_ai\\assignments\\assignment2\\trainer.py:72\u001B[0m, in \u001B[0;36mTrainer.compute_accuracy\u001B[1;34m(self, X, y)\u001B[0m\n\u001B[0;32m     70\u001B[0m \u001B[38;5;28;01mfor\u001B[39;00m batch_indices \u001B[38;5;129;01min\u001B[39;00m batches_indices:\n\u001B[0;32m     71\u001B[0m     batch_X \u001B[38;5;241m=\u001B[39m X[batch_indices]\n\u001B[1;32m---> 72\u001B[0m     pred_batch \u001B[38;5;241m=\u001B[39m \u001B[38;5;28;43mself\u001B[39;49m\u001B[38;5;241;43m.\u001B[39;49m\u001B[43mmodel\u001B[49m\u001B[38;5;241;43m.\u001B[39;49m\u001B[43mpredict\u001B[49m\u001B[43m(\u001B[49m\u001B[43mbatch_X\u001B[49m\u001B[43m)\u001B[49m\n\u001B[0;32m     73\u001B[0m     pred[batch_indices] \u001B[38;5;241m=\u001B[39m pred_batch\n\u001B[0;32m     75\u001B[0m \u001B[38;5;28;01mreturn\u001B[39;00m multiclass_accuracy(pred, y)\n",
      "File \u001B[1;32m~\\Desktop\\dlcourse_ai\\assignments\\assignment2\\model.py:61\u001B[0m, in \u001B[0;36mTwoLayerNet.predict\u001B[1;34m(self, X)\u001B[0m\n\u001B[0;32m     51\u001B[0m \u001B[38;5;28;01mdef\u001B[39;00m \u001B[38;5;21mpredict\u001B[39m(\u001B[38;5;28mself\u001B[39m, X):\n\u001B[0;32m     52\u001B[0m     \u001B[38;5;124;03m\"\"\"\u001B[39;00m\n\u001B[0;32m     53\u001B[0m \u001B[38;5;124;03m    Produces classifier predictions on the set\u001B[39;00m\n\u001B[0;32m     54\u001B[0m \n\u001B[1;32m   (...)\u001B[0m\n\u001B[0;32m     59\u001B[0m \u001B[38;5;124;03m      y_pred, np.array of int (test_samples)\u001B[39;00m\n\u001B[0;32m     60\u001B[0m \u001B[38;5;124;03m    \"\"\"\u001B[39;00m\n\u001B[1;32m---> 61\u001B[0m     \u001B[38;5;28;01mreturn\u001B[39;00m np\u001B[38;5;241m.\u001B[39margmax(softmax(\u001B[38;5;28mself\u001B[39m\u001B[38;5;241m.\u001B[39mlayer2\u001B[38;5;241m.\u001B[39mforward(\u001B[38;5;28mself\u001B[39m\u001B[38;5;241m.\u001B[39mrelu1\u001B[38;5;241m.\u001B[39mforward(\u001B[38;5;28;43mself\u001B[39;49m\u001B[38;5;241;43m.\u001B[39;49m\u001B[43mlayer1\u001B[49m\u001B[38;5;241;43m.\u001B[39;49m\u001B[43mforward\u001B[49m\u001B[43m(\u001B[49m\u001B[43mX\u001B[49m\u001B[43m)\u001B[49m))), axis\u001B[38;5;241m=\u001B[39m\u001B[38;5;241m1\u001B[39m)\n",
      "\u001B[1;31mKeyboardInterrupt\u001B[0m: "
     ]
    }
   ],
   "source": [
    "# TODO: Implement MomentumSGD.update function in optim.py\n",
    "\n",
    "model = TwoLayerNet(n_input = train_X.shape[1], n_output = 10, hidden_layer_size = 100, reg = 1e-6)\n",
    "dataset = Dataset(train_X, train_y, val_X, val_y)\n",
    "trainer = Trainer(model, dataset, MomentumSGD(), learning_rate=1e-2, learning_rate_decay=0.99)\n",
    "\n",
    "# You should see even better results than before!\n",
    "loss_history, train_history, val_history = trainer.fit()"
   ]
  },
  {
   "cell_type": "markdown",
   "metadata": {},
   "source": [
    "# Ну что, давайте уже тренировать сеть!"
   ]
  },
  {
   "cell_type": "markdown",
   "metadata": {},
   "source": [
    "## Последний тест - переобучимся (overfit) на маленьком наборе данных\n",
    "\n",
    "Хороший способ проверить, все ли реализовано корректно - переобучить сеть на маленьком наборе данных.  \n",
    "Наша модель обладает достаточной мощностью, чтобы приблизить маленький набор данных идеально, поэтому мы ожидаем, что на нем мы быстро дойдем до 100% точности на тренировочном наборе. \n",
    "\n",
    "Если этого не происходит, то где-то была допущена ошибка!"
   ]
  },
  {
   "cell_type": "code",
   "execution_count": 15,
   "outputs": [
    {
     "name": "stdout",
     "output_type": "stream",
     "text": [
      "Loss: 2.331274, Train accuracy: 0.200000, val accuracy: 0.133333\n",
      "Loss: 2.319712, Train accuracy: 0.200000, val accuracy: 0.133333\n",
      "Loss: 2.319449, Train accuracy: 0.200000, val accuracy: 0.133333\n",
      "Loss: 2.316003, Train accuracy: 0.200000, val accuracy: 0.133333\n",
      "Loss: 2.310592, Train accuracy: 0.200000, val accuracy: 0.133333\n",
      "Loss: 2.317842, Train accuracy: 0.266667, val accuracy: 0.000000\n",
      "Loss: 2.255885, Train accuracy: 0.266667, val accuracy: 0.000000\n",
      "Loss: 2.210839, Train accuracy: 0.266667, val accuracy: 0.000000\n",
      "Loss: 2.226207, Train accuracy: 0.400000, val accuracy: 0.000000\n",
      "Loss: 2.327397, Train accuracy: 0.400000, val accuracy: 0.000000\n",
      "Loss: 1.976307, Train accuracy: 0.400000, val accuracy: 0.000000\n",
      "Loss: 1.911775, Train accuracy: 0.400000, val accuracy: 0.000000\n",
      "Loss: 2.089181, Train accuracy: 0.400000, val accuracy: 0.000000\n",
      "Loss: 2.539881, Train accuracy: 0.400000, val accuracy: 0.000000\n",
      "Loss: 1.526519, Train accuracy: 0.333333, val accuracy: 0.000000\n",
      "Loss: 1.663507, Train accuracy: 0.333333, val accuracy: 0.000000\n",
      "Loss: 2.218114, Train accuracy: 0.400000, val accuracy: 0.000000\n",
      "Loss: 1.511697, Train accuracy: 0.400000, val accuracy: 0.000000\n",
      "Loss: 1.623150, Train accuracy: 0.400000, val accuracy: 0.000000\n",
      "Loss: 1.962627, Train accuracy: 0.400000, val accuracy: 0.000000\n",
      "Loss: 1.760558, Train accuracy: 0.400000, val accuracy: 0.066667\n",
      "Loss: 1.982061, Train accuracy: 0.400000, val accuracy: 0.000000\n",
      "Loss: 1.795654, Train accuracy: 0.400000, val accuracy: 0.000000\n",
      "Loss: 1.753720, Train accuracy: 0.400000, val accuracy: 0.000000\n",
      "Loss: 1.259580, Train accuracy: 0.400000, val accuracy: 0.000000\n",
      "Loss: 1.967752, Train accuracy: 0.466667, val accuracy: 0.000000\n",
      "Loss: 2.096897, Train accuracy: 0.466667, val accuracy: 0.066667\n",
      "Loss: 2.081841, Train accuracy: 0.466667, val accuracy: 0.000000\n",
      "Loss: 2.394910, Train accuracy: 0.466667, val accuracy: 0.066667\n",
      "Loss: 1.505337, Train accuracy: 0.466667, val accuracy: 0.066667\n",
      "Loss: 2.293761, Train accuracy: 0.533333, val accuracy: 0.066667\n",
      "Loss: 2.189608, Train accuracy: 0.533333, val accuracy: 0.066667\n",
      "Loss: 1.841075, Train accuracy: 0.466667, val accuracy: 0.066667\n",
      "Loss: 1.205535, Train accuracy: 0.533333, val accuracy: 0.000000\n",
      "Loss: 1.932093, Train accuracy: 0.533333, val accuracy: 0.066667\n",
      "Loss: 2.101799, Train accuracy: 0.533333, val accuracy: 0.066667\n",
      "Loss: 1.307461, Train accuracy: 0.600000, val accuracy: 0.066667\n",
      "Loss: 2.059377, Train accuracy: 0.666667, val accuracy: 0.066667\n",
      "Loss: 1.489545, Train accuracy: 0.600000, val accuracy: 0.066667\n",
      "Loss: 1.222786, Train accuracy: 0.666667, val accuracy: 0.000000\n",
      "Loss: 1.209060, Train accuracy: 0.666667, val accuracy: 0.066667\n",
      "Loss: 2.069668, Train accuracy: 0.666667, val accuracy: 0.066667\n",
      "Loss: 1.217773, Train accuracy: 0.666667, val accuracy: 0.066667\n",
      "Loss: 1.415021, Train accuracy: 0.666667, val accuracy: 0.000000\n",
      "Loss: 1.843449, Train accuracy: 0.733333, val accuracy: 0.066667\n",
      "Loss: 2.154630, Train accuracy: 0.800000, val accuracy: 0.066667\n",
      "Loss: 2.169319, Train accuracy: 0.733333, val accuracy: 0.133333\n",
      "Loss: 1.850746, Train accuracy: 0.733333, val accuracy: 0.066667\n",
      "Loss: 2.102719, Train accuracy: 0.733333, val accuracy: 0.133333\n",
      "Loss: 1.338510, Train accuracy: 0.733333, val accuracy: 0.066667\n",
      "Loss: 1.501279, Train accuracy: 0.733333, val accuracy: 0.066667\n",
      "Loss: 1.853668, Train accuracy: 0.733333, val accuracy: 0.066667\n",
      "Loss: 1.902346, Train accuracy: 0.733333, val accuracy: 0.066667\n",
      "Loss: 1.623770, Train accuracy: 0.733333, val accuracy: 0.066667\n",
      "Loss: 1.602071, Train accuracy: 0.733333, val accuracy: 0.066667\n",
      "Loss: 1.474709, Train accuracy: 0.733333, val accuracy: 0.066667\n",
      "Loss: 1.679969, Train accuracy: 0.733333, val accuracy: 0.066667\n",
      "Loss: 1.317783, Train accuracy: 0.733333, val accuracy: 0.066667\n",
      "Loss: 1.195699, Train accuracy: 0.733333, val accuracy: 0.066667\n",
      "Loss: 1.447972, Train accuracy: 0.733333, val accuracy: 0.066667\n",
      "Loss: 1.315086, Train accuracy: 0.733333, val accuracy: 0.066667\n",
      "Loss: 1.720677, Train accuracy: 0.733333, val accuracy: 0.066667\n",
      "Loss: 1.200635, Train accuracy: 0.733333, val accuracy: 0.066667\n",
      "Loss: 1.405009, Train accuracy: 0.733333, val accuracy: 0.066667\n",
      "Loss: 1.322285, Train accuracy: 0.733333, val accuracy: 0.066667\n",
      "Loss: 1.568969, Train accuracy: 0.733333, val accuracy: 0.066667\n",
      "Loss: 1.757253, Train accuracy: 0.800000, val accuracy: 0.066667\n",
      "Loss: 1.543447, Train accuracy: 0.733333, val accuracy: 0.066667\n",
      "Loss: 1.593065, Train accuracy: 0.733333, val accuracy: 0.066667\n",
      "Loss: 1.351537, Train accuracy: 0.733333, val accuracy: 0.066667\n",
      "Loss: 1.693223, Train accuracy: 0.800000, val accuracy: 0.066667\n",
      "Loss: 1.978265, Train accuracy: 0.866667, val accuracy: 0.066667\n",
      "Loss: 1.341710, Train accuracy: 0.866667, val accuracy: 0.066667\n",
      "Loss: 1.375283, Train accuracy: 0.866667, val accuracy: 0.066667\n",
      "Loss: 1.391022, Train accuracy: 0.866667, val accuracy: 0.066667\n",
      "Loss: 1.335978, Train accuracy: 0.866667, val accuracy: 0.066667\n",
      "Loss: 1.305961, Train accuracy: 0.866667, val accuracy: 0.066667\n",
      "Loss: 1.350193, Train accuracy: 0.933333, val accuracy: 0.066667\n",
      "Loss: 1.274354, Train accuracy: 0.933333, val accuracy: 0.066667\n",
      "Loss: 1.557012, Train accuracy: 0.933333, val accuracy: 0.066667\n",
      "Loss: 0.988841, Train accuracy: 0.933333, val accuracy: 0.066667\n",
      "Loss: 1.610189, Train accuracy: 0.933333, val accuracy: 0.066667\n",
      "Loss: 1.609170, Train accuracy: 0.933333, val accuracy: 0.066667\n",
      "Loss: 1.270855, Train accuracy: 0.933333, val accuracy: 0.066667\n",
      "Loss: 1.606743, Train accuracy: 0.933333, val accuracy: 0.066667\n",
      "Loss: 1.566191, Train accuracy: 0.933333, val accuracy: 0.066667\n",
      "Loss: 1.230346, Train accuracy: 0.933333, val accuracy: 0.066667\n",
      "Loss: 1.578533, Train accuracy: 0.933333, val accuracy: 0.066667\n",
      "Loss: 1.216871, Train accuracy: 0.933333, val accuracy: 0.066667\n",
      "Loss: 1.126422, Train accuracy: 0.933333, val accuracy: 0.066667\n",
      "Loss: 1.306019, Train accuracy: 0.933333, val accuracy: 0.066667\n",
      "Loss: 1.561796, Train accuracy: 0.933333, val accuracy: 0.066667\n",
      "Loss: 1.604571, Train accuracy: 0.933333, val accuracy: 0.066667\n",
      "Loss: 1.103715, Train accuracy: 0.933333, val accuracy: 0.066667\n",
      "Loss: 1.486532, Train accuracy: 0.933333, val accuracy: 0.066667\n",
      "Loss: 1.347321, Train accuracy: 0.933333, val accuracy: 0.066667\n",
      "Loss: 1.341215, Train accuracy: 0.933333, val accuracy: 0.066667\n",
      "Loss: 1.553872, Train accuracy: 0.933333, val accuracy: 0.066667\n",
      "Loss: 1.235374, Train accuracy: 0.933333, val accuracy: 0.066667\n",
      "Loss: 1.241929, Train accuracy: 0.933333, val accuracy: 0.066667\n",
      "Loss: 1.200633, Train accuracy: 0.933333, val accuracy: 0.066667\n",
      "Loss: 0.927473, Train accuracy: 0.933333, val accuracy: 0.000000\n",
      "Loss: 1.397651, Train accuracy: 0.933333, val accuracy: 0.066667\n",
      "Loss: 1.295237, Train accuracy: 0.933333, val accuracy: 0.000000\n",
      "Loss: 1.311462, Train accuracy: 0.933333, val accuracy: 0.000000\n",
      "Loss: 1.283426, Train accuracy: 0.933333, val accuracy: 0.000000\n",
      "Loss: 1.227510, Train accuracy: 0.933333, val accuracy: 0.000000\n",
      "Loss: 1.274912, Train accuracy: 0.933333, val accuracy: 0.000000\n",
      "Loss: 1.323135, Train accuracy: 0.933333, val accuracy: 0.000000\n",
      "Loss: 1.597559, Train accuracy: 0.933333, val accuracy: 0.000000\n",
      "Loss: 1.451521, Train accuracy: 0.933333, val accuracy: 0.000000\n",
      "Loss: 1.215394, Train accuracy: 0.933333, val accuracy: 0.000000\n",
      "Loss: 1.200536, Train accuracy: 0.933333, val accuracy: 0.000000\n",
      "Loss: 1.525907, Train accuracy: 0.933333, val accuracy: 0.000000\n",
      "Loss: 1.101709, Train accuracy: 0.933333, val accuracy: 0.000000\n",
      "Loss: 1.279955, Train accuracy: 0.933333, val accuracy: 0.000000\n",
      "Loss: 1.362999, Train accuracy: 1.000000, val accuracy: 0.000000\n",
      "Loss: 1.290515, Train accuracy: 1.000000, val accuracy: 0.000000\n",
      "Loss: 1.333813, Train accuracy: 1.000000, val accuracy: 0.000000\n",
      "Loss: 1.648803, Train accuracy: 1.000000, val accuracy: 0.000000\n",
      "Loss: 1.100183, Train accuracy: 1.000000, val accuracy: 0.000000\n",
      "Loss: 1.318259, Train accuracy: 1.000000, val accuracy: 0.000000\n",
      "Loss: 1.199924, Train accuracy: 0.933333, val accuracy: 0.000000\n",
      "Loss: 1.251228, Train accuracy: 1.000000, val accuracy: 0.000000\n",
      "Loss: 1.637646, Train accuracy: 1.000000, val accuracy: 0.000000\n",
      "Loss: 1.181788, Train accuracy: 1.000000, val accuracy: 0.000000\n",
      "Loss: 1.170006, Train accuracy: 1.000000, val accuracy: 0.000000\n",
      "Loss: 1.350709, Train accuracy: 1.000000, val accuracy: 0.000000\n",
      "Loss: 1.204268, Train accuracy: 1.000000, val accuracy: 0.000000\n",
      "Loss: 1.097040, Train accuracy: 1.000000, val accuracy: 0.000000\n",
      "Loss: 1.166787, Train accuracy: 1.000000, val accuracy: 0.000000\n",
      "Loss: 1.490582, Train accuracy: 1.000000, val accuracy: 0.000000\n",
      "Loss: 1.149578, Train accuracy: 1.000000, val accuracy: 0.000000\n",
      "Loss: 1.359064, Train accuracy: 1.000000, val accuracy: 0.000000\n",
      "Loss: 1.074123, Train accuracy: 1.000000, val accuracy: 0.000000\n",
      "Loss: 1.395314, Train accuracy: 1.000000, val accuracy: 0.000000\n",
      "Loss: 1.367013, Train accuracy: 1.000000, val accuracy: 0.000000\n",
      "Loss: 1.428082, Train accuracy: 1.000000, val accuracy: 0.000000\n",
      "Loss: 1.512232, Train accuracy: 1.000000, val accuracy: 0.000000\n",
      "Loss: 1.153404, Train accuracy: 1.000000, val accuracy: 0.000000\n",
      "Loss: 1.182117, Train accuracy: 1.000000, val accuracy: 0.000000\n",
      "Loss: 1.412958, Train accuracy: 1.000000, val accuracy: 0.000000\n",
      "Loss: 1.158585, Train accuracy: 1.000000, val accuracy: 0.000000\n",
      "Loss: 1.088635, Train accuracy: 1.000000, val accuracy: 0.000000\n",
      "Loss: 1.287435, Train accuracy: 1.000000, val accuracy: 0.000000\n",
      "Loss: 1.653818, Train accuracy: 1.000000, val accuracy: 0.000000\n",
      "Loss: 1.431613, Train accuracy: 1.000000, val accuracy: 0.000000\n",
      "Loss: 1.127328, Train accuracy: 1.000000, val accuracy: 0.000000\n",
      "Loss: 1.566047, Train accuracy: 1.000000, val accuracy: 0.000000\n",
      "Loss: 1.148351, Train accuracy: 1.000000, val accuracy: 0.000000\n"
     ]
    }
   ],
   "source": [
    "data_size = 15\n",
    "model = TwoLayerNet(n_input = train_X.shape[1], n_output = 10, hidden_layer_size = 100, reg = 1e-1)\n",
    "dataset = Dataset(train_X[:data_size], train_y[:data_size], val_X[:data_size], val_y[:data_size])\n",
    "trainer = Trainer(model, dataset, SGD(), learning_rate=1e-1, num_epochs=150, batch_size=5)\n",
    "\n",
    "# You should expect this to reach 1.0 training accuracy\n",
    "loss_history, train_history, val_history = trainer.fit()"
   ],
   "metadata": {
    "collapsed": false
   }
  },
  {
   "cell_type": "markdown",
   "source": [
    "Теперь найдем гипепараметры, для которых этот процесс сходится быстрее.\n",
    "Если все реализовано корректно, то существуют параметры, при которых процесс сходится в **20** эпох или еще быстрее.\n",
    "Найдите их!"
   ],
   "metadata": {
    "collapsed": false
   }
  },
  {
   "cell_type": "code",
   "execution_count": 16,
   "metadata": {},
   "outputs": [
    {
     "name": "stdout",
     "output_type": "stream",
     "text": [
      "Loss: 2.316270, Train accuracy: 0.200000, val accuracy: 0.133333\n",
      "Loss: 2.301264, Train accuracy: 0.200000, val accuracy: 0.133333\n",
      "Loss: 2.269199, Train accuracy: 0.200000, val accuracy: 0.133333\n",
      "Loss: 2.331335, Train accuracy: 0.200000, val accuracy: 0.133333\n",
      "Loss: 2.241761, Train accuracy: 0.200000, val accuracy: 0.133333\n",
      "Loss: 2.228658, Train accuracy: 0.200000, val accuracy: 0.133333\n",
      "Loss: 2.347905, Train accuracy: 0.200000, val accuracy: 0.133333\n",
      "Loss: 2.203489, Train accuracy: 0.200000, val accuracy: 0.133333\n",
      "Loss: 2.272135, Train accuracy: 0.200000, val accuracy: 0.133333\n",
      "Loss: 2.361365, Train accuracy: 0.200000, val accuracy: 0.133333\n",
      "Loss: 2.266053, Train accuracy: 0.200000, val accuracy: 0.133333\n",
      "Loss: 2.262750, Train accuracy: 0.200000, val accuracy: 0.133333\n",
      "Loss: 2.145795, Train accuracy: 0.200000, val accuracy: 0.133333\n",
      "Loss: 2.134840, Train accuracy: 0.200000, val accuracy: 0.066667\n",
      "Loss: 2.387288, Train accuracy: 0.200000, val accuracy: 0.066667\n",
      "Loss: 2.114597, Train accuracy: 0.200000, val accuracy: 0.066667\n",
      "Loss: 2.396733, Train accuracy: 0.200000, val accuracy: 0.066667\n",
      "Loss: 2.094220, Train accuracy: 0.200000, val accuracy: 0.066667\n",
      "Loss: 2.243587, Train accuracy: 0.200000, val accuracy: 0.066667\n",
      "Loss: 2.078654, Train accuracy: 0.333333, val accuracy: 0.000000\n",
      "0.3333333333333333 {'learning_rate': 0.01, 'regularization': 0.01, 'optimizer': <optim.SGD object at 0x000001E2CBEAA3B0>, 'batch_size': 1, 'hidden_layer_size': 5, 'learning_rate_decay': 0.99}\n",
      "Loss: 2.316991, Train accuracy: 0.200000, val accuracy: 0.133333\n",
      "Loss: 2.321940, Train accuracy: 0.200000, val accuracy: 0.133333\n",
      "Loss: 2.325709, Train accuracy: 0.200000, val accuracy: 0.133333\n",
      "Loss: 2.292689, Train accuracy: 0.200000, val accuracy: 0.133333\n",
      "Loss: 2.288435, Train accuracy: 0.200000, val accuracy: 0.133333\n",
      "Loss: 2.284342, Train accuracy: 0.200000, val accuracy: 0.133333\n",
      "Loss: 2.347210, Train accuracy: 0.200000, val accuracy: 0.066667\n",
      "Loss: 2.352113, Train accuracy: 0.200000, val accuracy: 0.133333\n",
      "Loss: 2.190993, Train accuracy: 0.200000, val accuracy: 0.133333\n",
      "Loss: 2.179066, Train accuracy: 0.200000, val accuracy: 0.133333\n",
      "Loss: 2.266922, Train accuracy: 0.200000, val accuracy: 0.133333\n",
      "Loss: 2.263007, Train accuracy: 0.200000, val accuracy: 0.133333\n",
      "Loss: 2.259742, Train accuracy: 0.266667, val accuracy: 0.000000\n",
      "Loss: 2.257086, Train accuracy: 0.200000, val accuracy: 0.133333\n",
      "Loss: 2.385281, Train accuracy: 0.200000, val accuracy: 0.133333\n",
      "Loss: 2.378088, Train accuracy: 0.266667, val accuracy: 0.000000\n",
      "Loss: 2.397787, Train accuracy: 0.266667, val accuracy: 0.000000\n",
      "Loss: 2.364327, Train accuracy: 0.266667, val accuracy: 0.000000\n",
      "Loss: 2.242426, Train accuracy: 0.266667, val accuracy: 0.000000\n",
      "Loss: 2.077110, Train accuracy: 0.266667, val accuracy: 0.000000\n",
      "Loss: 2.315982, Train accuracy: 0.200000, val accuracy: 0.133333\n",
      "Loss: 2.282305, Train accuracy: 0.200000, val accuracy: 0.133333\n",
      "Loss: 2.329580, Train accuracy: 0.200000, val accuracy: 0.133333\n",
      "Loss: 2.334483, Train accuracy: 0.200000, val accuracy: 0.133333\n",
      "Loss: 2.240525, Train accuracy: 0.200000, val accuracy: 0.133333\n",
      "Loss: 2.341479, Train accuracy: 0.200000, val accuracy: 0.133333\n",
      "Loss: 2.280332, Train accuracy: 0.266667, val accuracy: 0.000000\n",
      "Loss: 2.201616, Train accuracy: 0.200000, val accuracy: 0.066667\n",
      "Loss: 2.188905, Train accuracy: 0.200000, val accuracy: 0.066667\n",
      "Loss: 2.361557, Train accuracy: 0.266667, val accuracy: 0.000000\n",
      "Loss: 2.366555, Train accuracy: 0.266667, val accuracy: 0.000000\n",
      "Loss: 2.150563, Train accuracy: 0.266667, val accuracy: 0.000000\n",
      "Loss: 2.251917, Train accuracy: 0.266667, val accuracy: 0.000000\n",
      "Loss: 2.380639, Train accuracy: 0.266667, val accuracy: 0.000000\n",
      "Loss: 2.388614, Train accuracy: 0.266667, val accuracy: 0.000000\n",
      "Loss: 2.090911, Train accuracy: 0.266667, val accuracy: 0.000000\n",
      "Loss: 2.398467, Train accuracy: 0.266667, val accuracy: 0.000000\n",
      "Loss: 2.046566, Train accuracy: 0.266667, val accuracy: 0.000000\n",
      "Loss: 2.140860, Train accuracy: 0.333333, val accuracy: 0.000000\n",
      "Loss: 1.316771, Train accuracy: 0.400000, val accuracy: 0.000000\n",
      "0.4 {'learning_rate': 0.01, 'regularization': 0.01, 'optimizer': <optim.SGD object at 0x000001E2CBEAA3B0>, 'batch_size': 1, 'hidden_layer_size': 15, 'learning_rate_decay': 0.99}\n",
      "Loss: 2.297326, Train accuracy: 0.200000, val accuracy: 0.133333\n",
      "Loss: 2.282762, Train accuracy: 0.200000, val accuracy: 0.066667\n",
      "Loss: 2.268537, Train accuracy: 0.200000, val accuracy: 0.066667\n",
      "Loss: 2.254590, Train accuracy: 0.333333, val accuracy: 0.066667\n",
      "Loss: 2.289116, Train accuracy: 0.333333, val accuracy: 0.000000\n",
      "Loss: 2.342805, Train accuracy: 0.333333, val accuracy: 0.000000\n",
      "Loss: 2.215112, Train accuracy: 0.333333, val accuracy: 0.000000\n",
      "Loss: 2.202638, Train accuracy: 0.266667, val accuracy: 0.000000\n",
      "Loss: 2.188291, Train accuracy: 0.266667, val accuracy: 0.000000\n",
      "Loss: 2.174522, Train accuracy: 0.266667, val accuracy: 0.000000\n",
      "Loss: 2.155243, Train accuracy: 0.200000, val accuracy: 0.066667\n",
      "Loss: 2.372636, Train accuracy: 0.266667, val accuracy: 0.000000\n",
      "Loss: 2.110250, Train accuracy: 0.266667, val accuracy: 0.000000\n",
      "Loss: 2.259278, Train accuracy: 0.266667, val accuracy: 0.000000\n",
      "Loss: 2.385936, Train accuracy: 0.266667, val accuracy: 0.000000\n",
      "Loss: 2.197508, Train accuracy: 0.266667, val accuracy: 0.000000\n",
      "Loss: 2.166463, Train accuracy: 0.266667, val accuracy: 0.000000\n",
      "Loss: 2.072619, Train accuracy: 0.400000, val accuracy: 0.000000\n",
      "Loss: 2.405257, Train accuracy: 0.400000, val accuracy: 0.000000\n",
      "Loss: 1.978490, Train accuracy: 0.400000, val accuracy: 0.000000\n",
      "Loss: 2.317742, Train accuracy: 0.200000, val accuracy: 0.066667\n",
      "Loss: 2.281613, Train accuracy: 0.200000, val accuracy: 0.066667\n",
      "Loss: 2.267322, Train accuracy: 0.200000, val accuracy: 0.066667\n",
      "Loss: 2.292892, Train accuracy: 0.200000, val accuracy: 0.066667\n",
      "Loss: 2.337794, Train accuracy: 0.200000, val accuracy: 0.066667\n",
      "Loss: 2.227142, Train accuracy: 0.200000, val accuracy: 0.066667\n",
      "Loss: 2.347406, Train accuracy: 0.200000, val accuracy: 0.066667\n",
      "Loss: 2.201270, Train accuracy: 0.266667, val accuracy: 0.066667\n",
      "Loss: 2.357769, Train accuracy: 0.333333, val accuracy: 0.066667\n",
      "Loss: 2.178865, Train accuracy: 0.200000, val accuracy: 0.066667\n",
      "Loss: 2.266381, Train accuracy: 0.200000, val accuracy: 0.066667\n",
      "Loss: 2.122002, Train accuracy: 0.266667, val accuracy: 0.000000\n",
      "Loss: 2.139261, Train accuracy: 0.266667, val accuracy: 0.000000\n",
      "Loss: 2.384241, Train accuracy: 0.266667, val accuracy: 0.000000\n",
      "Loss: 2.107888, Train accuracy: 0.266667, val accuracy: 0.000000\n",
      "Loss: 2.397190, Train accuracy: 0.266667, val accuracy: 0.000000\n",
      "Loss: 2.396732, Train accuracy: 0.266667, val accuracy: 0.000000\n",
      "Loss: 2.257419, Train accuracy: 0.400000, val accuracy: 0.000000\n",
      "Loss: 2.078946, Train accuracy: 0.400000, val accuracy: 0.000000\n",
      "Loss: 0.792998, Train accuracy: 0.400000, val accuracy: 0.000000\n",
      "Loss: 2.296341, Train accuracy: 0.200000, val accuracy: 0.133333\n",
      "Loss: 2.303464, Train accuracy: 0.200000, val accuracy: 0.133333\n",
      "Loss: 2.328846, Train accuracy: 0.200000, val accuracy: 0.133333\n",
      "Loss: 2.333765, Train accuracy: 0.200000, val accuracy: 0.133333\n",
      "Loss: 2.337232, Train accuracy: 0.200000, val accuracy: 0.133333\n",
      "Loss: 2.225445, Train accuracy: 0.200000, val accuracy: 0.133333\n",
      "Loss: 2.214488, Train accuracy: 0.200000, val accuracy: 0.133333\n",
      "Loss: 2.200798, Train accuracy: 0.200000, val accuracy: 0.133333\n",
      "Loss: 2.188782, Train accuracy: 0.200000, val accuracy: 0.133333\n",
      "Loss: 2.271136, Train accuracy: 0.200000, val accuracy: 0.133333\n",
      "Loss: 2.368579, Train accuracy: 0.200000, val accuracy: 0.133333\n",
      "Loss: 2.265034, Train accuracy: 0.200000, val accuracy: 0.133333\n",
      "Loss: 2.258839, Train accuracy: 0.266667, val accuracy: 0.000000\n",
      "Loss: 2.254266, Train accuracy: 0.266667, val accuracy: 0.000000\n",
      "Loss: 2.390932, Train accuracy: 0.266667, val accuracy: 0.000000\n",
      "Loss: 2.115544, Train accuracy: 0.266667, val accuracy: 0.000000\n",
      "Loss: 2.260735, Train accuracy: 0.266667, val accuracy: 0.000000\n",
      "Loss: 1.944802, Train accuracy: 0.266667, val accuracy: 0.000000\n",
      "Loss: 2.405271, Train accuracy: 0.266667, val accuracy: 0.000000\n",
      "Loss: 2.437323, Train accuracy: 0.266667, val accuracy: 0.000000\n",
      "Loss: 2.300230, Train accuracy: 0.200000, val accuracy: 0.133333\n",
      "Loss: 2.283197, Train accuracy: 0.200000, val accuracy: 0.133333\n",
      "Loss: 2.268186, Train accuracy: 0.200000, val accuracy: 0.133333\n",
      "Loss: 2.257538, Train accuracy: 0.200000, val accuracy: 0.133333\n",
      "Loss: 2.337458, Train accuracy: 0.200000, val accuracy: 0.133333\n",
      "Loss: 2.227835, Train accuracy: 0.200000, val accuracy: 0.133333\n",
      "Loss: 2.347446, Train accuracy: 0.200000, val accuracy: 0.133333\n",
      "Loss: 2.274263, Train accuracy: 0.200000, val accuracy: 0.133333\n",
      "Loss: 2.357361, Train accuracy: 0.200000, val accuracy: 0.133333\n",
      "Loss: 2.155140, Train accuracy: 0.200000, val accuracy: 0.133333\n",
      "Loss: 2.269999, Train accuracy: 0.200000, val accuracy: 0.133333\n",
      "Loss: 2.152092, Train accuracy: 0.200000, val accuracy: 0.133333\n",
      "Loss: 2.257009, Train accuracy: 0.266667, val accuracy: 0.000000\n",
      "Loss: 2.082306, Train accuracy: 0.266667, val accuracy: 0.000000\n",
      "Loss: 2.265193, Train accuracy: 0.266667, val accuracy: 0.000000\n",
      "Loss: 1.986581, Train accuracy: 0.333333, val accuracy: 0.000000\n",
      "Loss: 2.112408, Train accuracy: 0.400000, val accuracy: 0.000000\n",
      "Loss: 2.040223, Train accuracy: 0.400000, val accuracy: 0.000000\n",
      "Loss: 2.434998, Train accuracy: 0.400000, val accuracy: 0.000000\n",
      "Loss: 0.490043, Train accuracy: 0.400000, val accuracy: 0.000000\n",
      "Loss: 2.318123, Train accuracy: 0.266667, val accuracy: 0.066667\n",
      "Loss: 2.282716, Train accuracy: 0.266667, val accuracy: 0.066667\n",
      "Loss: 2.268672, Train accuracy: 0.266667, val accuracy: 0.000000\n",
      "Loss: 2.254748, Train accuracy: 0.200000, val accuracy: 0.066667\n",
      "Loss: 2.241261, Train accuracy: 0.266667, val accuracy: 0.000000\n",
      "Loss: 2.286945, Train accuracy: 0.266667, val accuracy: 0.000000\n",
      "Loss: 2.281627, Train accuracy: 0.266667, val accuracy: 0.000000\n",
      "Loss: 2.192003, Train accuracy: 0.266667, val accuracy: 0.000000\n",
      "Loss: 2.358683, Train accuracy: 0.266667, val accuracy: 0.066667\n",
      "Loss: 2.145763, Train accuracy: 0.266667, val accuracy: 0.066667\n",
      "Loss: 2.072454, Train accuracy: 0.266667, val accuracy: 0.000000\n",
      "Loss: 2.262377, Train accuracy: 0.266667, val accuracy: 0.000000\n",
      "Loss: 2.124233, Train accuracy: 0.266667, val accuracy: 0.000000\n",
      "Loss: 2.382075, Train accuracy: 0.266667, val accuracy: 0.000000\n",
      "Loss: 2.267678, Train accuracy: 0.266667, val accuracy: 0.000000\n",
      "Loss: 2.207208, Train accuracy: 0.266667, val accuracy: 0.000000\n",
      "Loss: 2.417886, Train accuracy: 0.266667, val accuracy: 0.000000\n",
      "Loss: 2.140456, Train accuracy: 0.400000, val accuracy: 0.000000\n",
      "Loss: 2.400383, Train accuracy: 0.400000, val accuracy: 0.000000\n",
      "Loss: 2.090114, Train accuracy: 0.400000, val accuracy: 0.000000\n",
      "Loss: 2.299213, Train accuracy: 0.200000, val accuracy: 0.066667\n",
      "Loss: 2.304929, Train accuracy: 0.200000, val accuracy: 0.066667\n",
      "Loss: 2.329160, Train accuracy: 0.333333, val accuracy: 0.066667\n",
      "Loss: 2.335872, Train accuracy: 0.333333, val accuracy: 0.066667\n",
      "Loss: 2.240071, Train accuracy: 0.266667, val accuracy: 0.000000\n",
      "Loss: 2.344419, Train accuracy: 0.266667, val accuracy: 0.000000\n",
      "Loss: 2.280219, Train accuracy: 0.266667, val accuracy: 0.000000\n",
      "Loss: 2.354351, Train accuracy: 0.266667, val accuracy: 0.000000\n",
      "Loss: 2.189428, Train accuracy: 0.266667, val accuracy: 0.000000\n",
      "Loss: 2.180473, Train accuracy: 0.266667, val accuracy: 0.000000\n",
      "Loss: 2.369192, Train accuracy: 0.266667, val accuracy: 0.000000\n",
      "Loss: 2.232535, Train accuracy: 0.266667, val accuracy: 0.000000\n",
      "Loss: 2.005498, Train accuracy: 0.266667, val accuracy: 0.000000\n",
      "Loss: 1.757464, Train accuracy: 0.266667, val accuracy: 0.000000\n",
      "Loss: 1.523576, Train accuracy: 0.400000, val accuracy: 0.000000\n",
      "Loss: 2.122578, Train accuracy: 0.400000, val accuracy: 0.000000\n",
      "Loss: 2.397972, Train accuracy: 0.400000, val accuracy: 0.000000\n",
      "Loss: 1.860652, Train accuracy: 0.400000, val accuracy: 0.000000\n",
      "Loss: 2.405792, Train accuracy: 0.400000, val accuracy: 0.000000\n",
      "Loss: 1.466689, Train accuracy: 0.400000, val accuracy: 0.000000\n",
      "Loss: 2.306517, Train accuracy: 0.266667, val accuracy: 0.066667\n",
      "Loss: 2.301579, Train accuracy: 0.333333, val accuracy: 0.066667\n",
      "Loss: 2.271718, Train accuracy: 0.333333, val accuracy: 0.000000\n",
      "Loss: 2.292056, Train accuracy: 0.266667, val accuracy: 0.000000\n",
      "Loss: 2.287179, Train accuracy: 0.200000, val accuracy: 0.066667\n",
      "Loss: 2.344291, Train accuracy: 0.266667, val accuracy: 0.000000\n",
      "Loss: 2.218562, Train accuracy: 0.266667, val accuracy: 0.000000\n",
      "Loss: 2.206069, Train accuracy: 0.266667, val accuracy: 0.000000\n",
      "Loss: 2.150123, Train accuracy: 0.266667, val accuracy: 0.000000\n",
      "Loss: 2.176447, Train accuracy: 0.266667, val accuracy: 0.000000\n",
      "Loss: 2.371823, Train accuracy: 0.266667, val accuracy: 0.000000\n",
      "Loss: 1.948304, Train accuracy: 0.266667, val accuracy: 0.000000\n",
      "Loss: 2.089646, Train accuracy: 0.266667, val accuracy: 0.000000\n",
      "Loss: 2.384417, Train accuracy: 0.266667, val accuracy: 0.000000\n",
      "Loss: 1.979716, Train accuracy: 0.400000, val accuracy: 0.000000\n",
      "Loss: 2.104952, Train accuracy: 0.400000, val accuracy: 0.000000\n",
      "Loss: 2.024476, Train accuracy: 0.400000, val accuracy: 0.000000\n",
      "Loss: 0.533565, Train accuracy: 0.400000, val accuracy: 0.000000\n",
      "Loss: 1.948670, Train accuracy: 0.400000, val accuracy: 0.000000\n",
      "Loss: 0.477548, Train accuracy: 0.400000, val accuracy: 0.000000\n",
      "Loss: 2.303814, Train accuracy: 0.200000, val accuracy: 0.066667\n",
      "Loss: 2.288942, Train accuracy: 0.200000, val accuracy: 0.066667\n",
      "Loss: 2.333274, Train accuracy: 0.266667, val accuracy: 0.066667\n",
      "Loss: 2.258578, Train accuracy: 0.333333, val accuracy: 0.066667\n",
      "Loss: 2.341994, Train accuracy: 0.333333, val accuracy: 0.066667\n",
      "Loss: 2.290200, Train accuracy: 0.266667, val accuracy: 0.066667\n",
      "Loss: 2.280146, Train accuracy: 0.266667, val accuracy: 0.000000\n",
      "Loss: 2.175651, Train accuracy: 0.266667, val accuracy: 0.000000\n",
      "Loss: 2.138664, Train accuracy: 0.266667, val accuracy: 0.000000\n",
      "Loss: 2.184392, Train accuracy: 0.266667, val accuracy: 0.000000\n",
      "Loss: 2.074075, Train accuracy: 0.266667, val accuracy: 0.000000\n",
      "Loss: 2.329662, Train accuracy: 0.266667, val accuracy: 0.000000\n",
      "Loss: 2.273231, Train accuracy: 0.400000, val accuracy: 0.000000\n",
      "Loss: 2.023856, Train accuracy: 0.400000, val accuracy: 0.000000\n",
      "Loss: 2.213549, Train accuracy: 0.400000, val accuracy: 0.000000\n",
      "Loss: 0.846770, Train accuracy: 0.400000, val accuracy: 0.000000\n",
      "Loss: 1.827327, Train accuracy: 0.400000, val accuracy: 0.000000\n",
      "Loss: 2.438327, Train accuracy: 0.400000, val accuracy: 0.000000\n",
      "Loss: 1.915866, Train accuracy: 0.400000, val accuracy: 0.000000\n",
      "Loss: 2.116800, Train accuracy: 0.400000, val accuracy: 0.000000\n",
      "Loss: 2.303116, Train accuracy: 0.333333, val accuracy: 0.066667\n",
      "Loss: 2.306009, Train accuracy: 0.333333, val accuracy: 0.066667\n",
      "Loss: 2.272383, Train accuracy: 0.266667, val accuracy: 0.000000\n",
      "Loss: 2.297526, Train accuracy: 0.266667, val accuracy: 0.000000\n",
      "Loss: 2.293840, Train accuracy: 0.266667, val accuracy: 0.000000\n"
     ]
    },
    {
     "ename": "KeyboardInterrupt",
     "evalue": "",
     "output_type": "error",
     "traceback": [
      "\u001B[1;31m---------------------------------------------------------------------------\u001B[0m",
      "\u001B[1;31mKeyboardInterrupt\u001B[0m                         Traceback (most recent call last)",
      "Cell \u001B[1;32mIn [16], line 22\u001B[0m\n\u001B[0;32m     19\u001B[0m \u001B[38;5;66;03m# TODO: Change any hyperparamers or optimizators to reach training accuracy in 20 epochs\u001B[39;00m\n\u001B[0;32m     20\u001B[0m trainer \u001B[38;5;241m=\u001B[39m Trainer(model, dataset, optimizer, learning_rate\u001B[38;5;241m=\u001B[39mlearning_rate, num_epochs\u001B[38;5;241m=\u001B[39m\u001B[38;5;241m20\u001B[39m, batch_size\u001B[38;5;241m=\u001B[39mbatch_size)\n\u001B[1;32m---> 22\u001B[0m loss_history, train_history, val_history \u001B[38;5;241m=\u001B[39m \u001B[43mtrainer\u001B[49m\u001B[38;5;241;43m.\u001B[39;49m\u001B[43mfit\u001B[49m\u001B[43m(\u001B[49m\u001B[43m)\u001B[49m\n\u001B[0;32m     24\u001B[0m \u001B[38;5;28;01mif\u001B[39;00m train_history[\u001B[38;5;241m-\u001B[39m\u001B[38;5;241m1\u001B[39m] \u001B[38;5;241m>\u001B[39m biggest_train_accuracy \u001B[38;5;129;01mor\u001B[39;00m train_history[\u001B[38;5;241m-\u001B[39m\u001B[38;5;241m1\u001B[39m] \u001B[38;5;241m==\u001B[39m \u001B[38;5;241m1.0\u001B[39m:\n\u001B[0;32m     25\u001B[0m     biggest_train_accuracy \u001B[38;5;241m=\u001B[39m train_history[\u001B[38;5;241m-\u001B[39m\u001B[38;5;241m1\u001B[39m]\n",
      "File \u001B[1;32m~\\Desktop\\dlcourse_ai\\assignments\\assignment2\\trainer.py:99\u001B[0m, in \u001B[0;36mTrainer.fit\u001B[1;34m(self)\u001B[0m\n\u001B[0;32m     96\u001B[0m batch_losses \u001B[38;5;241m=\u001B[39m []\n\u001B[0;32m     98\u001B[0m \u001B[38;5;28;01mfor\u001B[39;00m batch_indices \u001B[38;5;129;01min\u001B[39;00m batches_indices:\n\u001B[1;32m---> 99\u001B[0m     loss \u001B[38;5;241m=\u001B[39m \u001B[38;5;28;43mself\u001B[39;49m\u001B[38;5;241;43m.\u001B[39;49m\u001B[43mmodel\u001B[49m\u001B[38;5;241;43m.\u001B[39;49m\u001B[43mcompute_loss_and_gradients\u001B[49m\u001B[43m(\u001B[49m\u001B[38;5;28;43mself\u001B[39;49m\u001B[38;5;241;43m.\u001B[39;49m\u001B[43mdataset\u001B[49m\u001B[38;5;241;43m.\u001B[39;49m\u001B[43mtrain_X\u001B[49m\u001B[43m[\u001B[49m\u001B[43mbatch_indices\u001B[49m\u001B[43m]\u001B[49m\u001B[43m,\u001B[49m\u001B[43m \u001B[49m\u001B[38;5;28;43mself\u001B[39;49m\u001B[38;5;241;43m.\u001B[39;49m\u001B[43mdataset\u001B[49m\u001B[38;5;241;43m.\u001B[39;49m\u001B[43mtrain_y\u001B[49m\u001B[43m[\u001B[49m\u001B[43mbatch_indices\u001B[49m\u001B[43m]\u001B[49m\u001B[43m)\u001B[49m\n\u001B[0;32m    101\u001B[0m     \u001B[38;5;28;01mfor\u001B[39;00m param_name, param \u001B[38;5;129;01min\u001B[39;00m \u001B[38;5;28mself\u001B[39m\u001B[38;5;241m.\u001B[39mmodel\u001B[38;5;241m.\u001B[39mparams()\u001B[38;5;241m.\u001B[39mitems():\n\u001B[0;32m    102\u001B[0m         optimizer \u001B[38;5;241m=\u001B[39m \u001B[38;5;28mself\u001B[39m\u001B[38;5;241m.\u001B[39moptimizers[param_name]\n",
      "File \u001B[1;32m~\\Desktop\\dlcourse_ai\\assignments\\assignment2\\model.py:45\u001B[0m, in \u001B[0;36mTwoLayerNet.compute_loss_and_gradients\u001B[1;34m(self, X, y)\u001B[0m\n\u001B[0;32m     43\u001B[0m \u001B[38;5;28;01mfor\u001B[39;00m param_key \u001B[38;5;129;01min\u001B[39;00m params:\n\u001B[0;32m     44\u001B[0m     param \u001B[38;5;241m=\u001B[39m params[param_key]\n\u001B[1;32m---> 45\u001B[0m     loss_reg, grad_regularization \u001B[38;5;241m=\u001B[39m \u001B[43ml2_regularization\u001B[49m\u001B[43m(\u001B[49m\u001B[43mparam\u001B[49m\u001B[38;5;241;43m.\u001B[39;49m\u001B[43mvalue\u001B[49m\u001B[43m,\u001B[49m\u001B[43m \u001B[49m\u001B[38;5;28;43mself\u001B[39;49m\u001B[38;5;241;43m.\u001B[39;49m\u001B[43mreg\u001B[49m\u001B[43m)\u001B[49m\n\u001B[0;32m     46\u001B[0m     loss \u001B[38;5;241m+\u001B[39m\u001B[38;5;241m=\u001B[39m loss_reg\n\u001B[0;32m     47\u001B[0m     param\u001B[38;5;241m.\u001B[39mgrad \u001B[38;5;241m+\u001B[39m\u001B[38;5;241m=\u001B[39m grad_regularization\n",
      "File \u001B[1;32m~\\Desktop\\dlcourse_ai\\assignments\\assignment2\\layers.py:52\u001B[0m, in \u001B[0;36ml2_regularization\u001B[1;34m(W, reg_strength)\u001B[0m\n\u001B[0;32m     39\u001B[0m \u001B[38;5;28;01mdef\u001B[39;00m \u001B[38;5;21ml2_regularization\u001B[39m(W, reg_strength):\n\u001B[0;32m     40\u001B[0m     \u001B[38;5;124;03m'''\u001B[39;00m\n\u001B[0;32m     41\u001B[0m \u001B[38;5;124;03m    Computes L2 regularization loss on weights and its gradient\u001B[39;00m\n\u001B[0;32m     42\u001B[0m \n\u001B[1;32m   (...)\u001B[0m\n\u001B[0;32m     49\u001B[0m \u001B[38;5;124;03m      gradient, np.array same shape as W - gradient of weight by l2 loss\u001B[39;00m\n\u001B[0;32m     50\u001B[0m \u001B[38;5;124;03m    '''\u001B[39;00m\n\u001B[1;32m---> 52\u001B[0m     loss \u001B[38;5;241m=\u001B[39m reg_strength\u001B[38;5;241m*\u001B[39m\u001B[43mnp\u001B[49m\u001B[38;5;241;43m.\u001B[39;49m\u001B[43msum\u001B[49m\u001B[43m(\u001B[49m\u001B[43mW\u001B[49m\u001B[38;5;241;43m*\u001B[39;49m\u001B[38;5;241;43m*\u001B[39;49m\u001B[38;5;241;43m2\u001B[39;49m\u001B[43m)\u001B[49m\n\u001B[0;32m     53\u001B[0m     grad \u001B[38;5;241m=\u001B[39m \u001B[38;5;241m2\u001B[39m\u001B[38;5;241m*\u001B[39mreg_strength\u001B[38;5;241m*\u001B[39mW\n\u001B[0;32m     54\u001B[0m     \u001B[38;5;28;01mreturn\u001B[39;00m loss, grad\n",
      "File \u001B[1;32m<__array_function__ internals>:177\u001B[0m, in \u001B[0;36msum\u001B[1;34m(*args, **kwargs)\u001B[0m\n",
      "\u001B[1;31mKeyboardInterrupt\u001B[0m: "
     ]
    }
   ],
   "source": [
    "# Now, tweak some hyper parameters and make it train to 1.0 accuracy in 20 epochs or less\n",
    "biggest_train_accuracy = 0\n",
    "best_hyperparametrs = {\"learning_rate\" : 0, \"regularization\" : 0, \"optimizer\" : None, \"batch_size\" : 0, \"hidden_layer_size\" : 0, \"learning_rate_decay\" : 0}\n",
    "\n",
    "learning_rates = [1e-2, 1e-3, 1e-4, 1e-5, 1e-6, 1e-7, 1e-8]\n",
    "regularizations = [1e-2, 1e-3, 1e-4, 1e-5, 1e-6, 1e-7, 1e-8]\n",
    "optimizers = [SGD(), MomentumSGD()]\n",
    "batch_sizes = list(range(1, data_size + 1))\n",
    "hidden_layer_sizes = [5, 15, 30, 50, 100, 200]\n",
    "learning_rate_decays = [0.99, 1]\n",
    "for learning_rate in learning_rates:\n",
    "    for regularization in regularizations:\n",
    "        for optimizer in optimizers:\n",
    "            for batch_size in batch_sizes:\n",
    "                for hidden_layer_size in hidden_layer_sizes:\n",
    "                    for learning_rate_decay in learning_rate_decays:\n",
    "                        model = TwoLayerNet(n_input = train_X.shape[1], n_output = 10, hidden_layer_size = hidden_layer_size, reg = regularization)\n",
    "                        dataset = Dataset(train_X[:data_size], train_y[:data_size], val_X[:data_size], val_y[:data_size])\n",
    "                        # TODO: Change any hyperparamers or optimizators to reach training accuracy in 20 epochs\n",
    "                        trainer = Trainer(model, dataset, optimizer, learning_rate=learning_rate, num_epochs=20, batch_size=batch_size)\n",
    "\n",
    "                        loss_history, train_history, val_history = trainer.fit()\n",
    "\n",
    "                        if train_history[-1] > biggest_train_accuracy or train_history[-1] == 1.0:\n",
    "                            biggest_train_accuracy = train_history[-1]\n",
    "                            best_hyperparametrs['learning_rate'] = learning_rate\n",
    "                            best_hyperparametrs['regularization'] = regularization\n",
    "                            best_hyperparametrs['optimizer'] = optimizer\n",
    "                            best_hyperparametrs['batch_size'] = batch_size\n",
    "                            best_hyperparametrs['hidden_layer_size'] = hidden_layer_size\n",
    "                            best_hyperparametrs['learning_rate_decay'] = learning_rate_decay\n",
    "                            print(biggest_train_accuracy, best_hyperparametrs)\n",
    "print(biggest_train_accuracy, best_hyperparametrs)"
   ]
  },
  {
   "cell_type": "markdown",
   "metadata": {},
   "source": [
    "# Итак, основное мероприятие!\n",
    "\n",
    "Натренируйте лучшую нейросеть! Можно добавлять и изменять параметры, менять количество нейронов в слоях сети и как угодно экспериментировать. \n",
    "\n",
    "Добейтесь точности лучше **60%** на validation set."
   ]
  },
  {
   "cell_type": "code",
   "execution_count": 12,
   "metadata": {
    "scrolled": true
   },
   "outputs": [
    {
     "name": "stdout",
     "output_type": "stream",
     "text": [
      "epoch 0 Loss: 1.722223, Train accuracy: 0.495111, val accuracy: 0.496000\n",
      "epoch 1 Loss: 0.815678, Train accuracy: 0.590111, val accuracy: 0.572000\n",
      "epoch 2 Loss: 1.310658, Train accuracy: 0.624444, val accuracy: 0.594000\n",
      "epoch 3 Loss: 2.328704, Train accuracy: 0.629222, val accuracy: 0.596000\n",
      "epoch 4 Loss: 0.139687, Train accuracy: 0.733111, val accuracy: 0.679000\n",
      "epoch 5 Loss: 2.302580, Train accuracy: 0.674889, val accuracy: 0.634000\n",
      "epoch 6 Loss: 1.539629, Train accuracy: 0.712333, val accuracy: 0.636000\n",
      "epoch 7 Loss: 0.426865, Train accuracy: 0.704667, val accuracy: 0.642000\n"
     ]
    }
   ],
   "source": [
    "learning_rate = 1e-2\n",
    "regularization = 0.00001\n",
    "optimizer = MomentumSGD()\n",
    "batch_size = 5\n",
    "hidden_layer_size = 200\n",
    "learning_rate_decay = 0.99\n",
    "\n",
    "dataset = Dataset(train_X, train_y, val_X, val_y)\n",
    "\n",
    "model = TwoLayerNet(n_input = train_X.shape[1], n_output = 10, hidden_layer_size = hidden_layer_size, reg = regularization)\n",
    "trainer = Trainer(model, dataset, optimizer, learning_rate=learning_rate, num_epochs=8, batch_size=batch_size)\n",
    "\n",
    "loss_history, train_history, val_history = trainer.fit()"
   ]
  },
  {
   "cell_type": "code",
   "execution_count": 16,
   "metadata": {},
   "outputs": [
    {
     "data": {
      "text/plain": "[<matplotlib.lines.Line2D at 0x1671e774790>]"
     },
     "execution_count": 16,
     "metadata": {},
     "output_type": "execute_result"
    },
    {
     "data": {
      "text/plain": "<Figure size 1500x700 with 2 Axes>",
      "image/png": "[encoded data removed]"
     },
     "metadata": {},
     "output_type": "display_data"
    }
   ],
   "source": [
    "#print(multiclass_accuracy(model.predict(val_X), val_y))\n",
    "plt.figure(figsize=(15, 7))\n",
    "plt.subplot(211)\n",
    "plt.title(\"Loss\")\n",
    "plt.plot(loss_history)\n",
    "plt.subplot(212)\n",
    "plt.title(\"Train/validation accuracy\")\n",
    "plt.plot(train_history)\n",
    "plt.plot(val_history)"
   ]
  },
  {
   "cell_type": "markdown",
   "metadata": {},
   "source": [
    "# Как обычно, посмотрим, как наша лучшая модель работает на тестовых данных"
   ]
  },
  {
   "cell_type": "code",
   "execution_count": 20,
   "metadata": {},
   "outputs": [
    {
     "name": "stdout",
     "output_type": "stream",
     "text": [
      "Neural net test set accuracy: 0.559000\n"
     ]
    }
   ],
   "source": [
    "test_pred = model.predict(test_X)\n",
    "test_accuracy = multiclass_accuracy(test_pred, test_y)\n",
    "print('Neural net test set accuracy: %f' % (test_accuracy, ))"
   ]
  },
  {
   "cell_type": "code",
   "execution_count": null,
   "outputs": [],
   "source": [],
   "metadata": {
    "collapsed": false
   }
  }
 ],
 "metadata": {
  "kernelspec": {
   "display_name": "Python 3",
   "language": "python",
   "name": "python3"
  },
  "language_info": {
   "codemirror_mode": {
    "name": "ipython",
    "version": 3
   },
   "file_extension": ".py",
   "mimetype": "text/x-python",
   "name": "python",
   "nbconvert_exporter": "python",
   "pygments_lexer": "ipython3",
   "version": "3.7.0"
  }
 },
 "nbformat": 4,
 "nbformat_minor": 2
}
