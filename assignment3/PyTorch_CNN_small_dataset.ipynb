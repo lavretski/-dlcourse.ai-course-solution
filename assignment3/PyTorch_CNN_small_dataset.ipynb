{
 "cells": [
  {
   "cell_type": "code",
   "execution_count": 141,
   "metadata": {
    "collapsed": true
   },
   "outputs": [],
   "source": [
    "from collections import namedtuple\n",
    "\n",
    "import matplotlib.pyplot as plt\n",
    "import numpy as np\n",
    "import PIL\n",
    "import torch\n",
    "import torch.nn as nn\n",
    "import torch.optim as optim\n",
    "import torchvision.datasets as dset\n",
    "from torch.utils.data.sampler import SubsetRandomSampler, Sampler\n",
    "\n",
    "from torchvision import transforms"
   ]
  },
  {
   "cell_type": "code",
   "execution_count": 142,
   "outputs": [],
   "source": [
    "# First, lets load the dataset\n",
    "tfs = transforms.Compose([\n",
    "    transforms.ColorJitter(hue=.20, saturation=.20),\n",
    "    transforms.RandomRotation(10),\n",
    "    #transforms.GaussianBlur(kernel_size=(5, 9), sigma=(0.1, 2.0)),\n",
    "    transforms.RandomAdjustSharpness(3, p=0.5),\n",
    "    transforms.ToTensor(),\n",
    "    transforms.Normalize(mean=[0.43,0.44,0.47],\n",
    "                       std=[0.20,0.20,0.20])\n",
    "])\n",
    "data_train = dset.SVHN('./data/',\n",
    "                       transform=tfs\n",
    "                      )\n",
    "data_test = dset.SVHN('./data/', split='test', transform=transforms.Compose([\n",
    "                           transforms.ToTensor(),\n",
    "                           transforms.Normalize(mean=[0.43,0.44,0.47],\n",
    "                                               std=[0.20,0.20,0.20])\n",
    "                       ]))"
   ],
   "metadata": {
    "collapsed": false
   }
  },
  {
   "cell_type": "code",
   "execution_count": 143,
   "outputs": [],
   "source": [
    "batch_size = 64\n",
    "want_size = 1000\n",
    "\n",
    "data_size = data_train.data.shape[0]\n",
    "validation_split = .2\n",
    "split = int(np.floor(validation_split * want_size))\n",
    "indices = list(range(data_size))\n",
    "np.random.shuffle(indices)\n",
    "indices = indices[:want_size]\n",
    "\n",
    "train_indices, val_indices = indices[split:], indices[:split]\n",
    "\n",
    "train_sampler = SubsetRandomSampler(train_indices)\n",
    "val_sampler = SubsetRandomSampler(val_indices)\n",
    "\n",
    "train_loader = torch.utils.data.DataLoader(data_train, batch_size=batch_size,\n",
    "                                           sampler=train_sampler)\n",
    "val_loader = torch.utils.data.DataLoader(data_train, batch_size=batch_size,\n",
    "                                         sampler=val_sampler)"
   ],
   "metadata": {
    "collapsed": false
   }
  },
  {
   "cell_type": "code",
   "execution_count": 144,
   "outputs": [],
   "source": [
    "# We'll use a special helper module to shape it into a flat tensor\n",
    "class Flattener(nn.Module):\n",
    "    def forward(self, x):\n",
    "        batch_size, *_ = x.shape\n",
    "        return x.view(batch_size, -1)"
   ],
   "metadata": {
    "collapsed": false
   }
  },
  {
   "cell_type": "code",
   "execution_count": 145,
   "outputs": [],
   "source": [
    "def train_model(model, train_loader, val_loader, loss, optimizer, scheduler, num_epochs):\n",
    "    loss_history = []\n",
    "    train_history = []\n",
    "    val_history = []\n",
    "    for epoch in range(num_epochs):\n",
    "        scheduler.step()\n",
    "        model.train() # Enter train mode\n",
    "\n",
    "        loss_accum = 0\n",
    "        correct_samples = 0\n",
    "        total_samples = 0\n",
    "        for i_step, (x, y) in enumerate(train_loader):\n",
    "            prediction = model(x)\n",
    "            loss_value = loss(prediction, y)\n",
    "            optimizer.zero_grad()\n",
    "            loss_value.backward()\n",
    "            optimizer.step()\n",
    "\n",
    "            _, indices = torch.max(prediction, 1)\n",
    "            correct_samples += torch.sum(indices == y)\n",
    "            total_samples += y.shape[0]\n",
    "\n",
    "            loss_accum += loss_value\n",
    "\n",
    "        ave_loss = loss_accum / i_step\n",
    "        train_accuracy = float(correct_samples) / total_samples\n",
    "        val_accuracy = compute_accuracy(model, val_loader)\n",
    "\n",
    "        loss_history.append(float(ave_loss))\n",
    "        train_history.append(train_accuracy)\n",
    "        val_history.append(val_accuracy)\n",
    "        print(\"epoch %d Average loss: %f, Train accuracy: %f, val accuracy: %f\" %\n",
    "                  (epoch+1, ave_loss, train_accuracy, val_accuracy))\n",
    "        #if train_accuracy < 0.15:\n",
    "        #    return loss_history, train_history, val_history\n",
    "\n",
    "    return loss_history, train_history, val_history\n",
    "\n",
    "def compute_accuracy(model, loader):\n",
    "    \"\"\"\n",
    "    Computes accuracy on the dataset wrapped in a loader\n",
    "\n",
    "    Returns: accuracy as a float value between 0 and 1\n",
    "    \"\"\"\n",
    "    model.eval()\n",
    "    correct_samples = 0\n",
    "    total_samples = 0\n",
    "    for i_step, (x, y) in enumerate(loader):\n",
    "        # x_gpu = x.to(device)\n",
    "        # y_gpu = y.to(device)\n",
    "        prediction = model(x)\n",
    "        _, indices = torch.max(prediction, 1)\n",
    "        correct_samples += torch.sum(indices == y)\n",
    "        total_samples += y.shape[0]\n",
    "\n",
    "    train_accuracy = float(correct_samples) / total_samples\n",
    "    return train_accuracy\n",
    "\n",
    "#loss_history, train_history, val_history = train_model(nn_model, train_loader, val_loader, loss, optimizer, 5)"
   ],
   "metadata": {
    "collapsed": false
   }
  },
  {
   "cell_type": "code",
   "execution_count": 146,
   "outputs": [
    {
     "name": "stdout",
     "output_type": "stream",
     "text": [
      "exp 0 learning_rate = 0.0061 (learning_rate_decay, step_size) = (0.4,4) reg = 3.4e-05 batch_size = 64\n",
      "epoch 1 Average loss: 2.434959, Train accuracy: 0.211250, val accuracy: 0.200000\n",
      "epoch 2 Average loss: 2.021086, Train accuracy: 0.361250, val accuracy: 0.260000\n",
      "epoch 3 Average loss: 1.658235, Train accuracy: 0.472500, val accuracy: 0.420000\n",
      "epoch 4 Average loss: 1.246600, Train accuracy: 0.621250, val accuracy: 0.545000\n",
      "epoch 5 Average loss: 1.037915, Train accuracy: 0.703750, val accuracy: 0.565000\n",
      "epoch 6 Average loss: 0.831492, Train accuracy: 0.772500, val accuracy: 0.590000\n",
      "epoch 7 Average loss: 0.667197, Train accuracy: 0.827500, val accuracy: 0.620000\n",
      "epoch 8 Average loss: 0.504001, Train accuracy: 0.890000, val accuracy: 0.610000\n",
      "epoch 9 Average loss: 0.433561, Train accuracy: 0.923750, val accuracy: 0.600000\n",
      "epoch 10 Average loss: 0.380609, Train accuracy: 0.928750, val accuracy: 0.620000\n",
      "epoch 11 Average loss: 0.349347, Train accuracy: 0.932500, val accuracy: 0.640000\n",
      "epoch 12 Average loss: 0.283659, Train accuracy: 0.956250, val accuracy: 0.660000\n",
      "epoch 13 Average loss: 0.271466, Train accuracy: 0.967500, val accuracy: 0.620000\n",
      "epoch 14 Average loss: 0.254658, Train accuracy: 0.958750, val accuracy: 0.620000\n",
      "epoch 15 Average loss: 0.258375, Train accuracy: 0.967500, val accuracy: 0.655000\n",
      "epoch 16 Average loss: 0.231649, Train accuracy: 0.967500, val accuracy: 0.665000\n",
      "epoch 17 Average loss: 0.219661, Train accuracy: 0.968750, val accuracy: 0.650000\n",
      "epoch 18 Average loss: 0.216571, Train accuracy: 0.973750, val accuracy: 0.655000\n",
      "epoch 19 Average loss: 0.211021, Train accuracy: 0.976250, val accuracy: 0.645000\n",
      "epoch 20 Average loss: 0.191465, Train accuracy: 0.985000, val accuracy: 0.675000\n",
      "exp 1 learning_rate = 0.0061 (learning_rate_decay, step_size) = (0.4,4) reg = 3.4e-05 batch_size = 64\n",
      "epoch 1 Average loss: 2.591452, Train accuracy: 0.147500, val accuracy: 0.165000\n",
      "epoch 2 Average loss: 2.329350, Train accuracy: 0.245000, val accuracy: 0.205000\n",
      "epoch 3 Average loss: 2.169846, Train accuracy: 0.320000, val accuracy: 0.195000\n",
      "epoch 4 Average loss: 1.876089, Train accuracy: 0.408750, val accuracy: 0.315000\n",
      "epoch 5 Average loss: 1.671815, Train accuracy: 0.486250, val accuracy: 0.330000\n",
      "epoch 6 Average loss: 1.466202, Train accuracy: 0.561250, val accuracy: 0.385000\n",
      "epoch 7 Average loss: 1.256894, Train accuracy: 0.642500, val accuracy: 0.415000\n",
      "epoch 8 Average loss: 1.049457, Train accuracy: 0.703750, val accuracy: 0.410000\n",
      "epoch 9 Average loss: 0.998585, Train accuracy: 0.756250, val accuracy: 0.450000\n",
      "epoch 10 Average loss: 0.872533, Train accuracy: 0.783750, val accuracy: 0.435000\n",
      "epoch 11 Average loss: 0.769345, Train accuracy: 0.815000, val accuracy: 0.490000\n",
      "epoch 12 Average loss: 0.715911, Train accuracy: 0.836250, val accuracy: 0.500000\n",
      "epoch 13 Average loss: 0.655220, Train accuracy: 0.853750, val accuracy: 0.470000\n",
      "epoch 14 Average loss: 0.615739, Train accuracy: 0.873750, val accuracy: 0.455000\n",
      "epoch 15 Average loss: 0.578123, Train accuracy: 0.891250, val accuracy: 0.490000\n",
      "epoch 16 Average loss: 0.546949, Train accuracy: 0.896250, val accuracy: 0.485000\n",
      "epoch 17 Average loss: 0.556648, Train accuracy: 0.882500, val accuracy: 0.480000\n",
      "epoch 18 Average loss: 0.541304, Train accuracy: 0.882500, val accuracy: 0.500000\n",
      "epoch 19 Average loss: 0.529797, Train accuracy: 0.890000, val accuracy: 0.495000\n",
      "epoch 20 Average loss: 0.495362, Train accuracy: 0.911250, val accuracy: 0.500000\n",
      "exp 2 learning_rate = 0.0061 (learning_rate_decay, step_size) = (0.4,4) reg = 3.4e-05 batch_size = 64\n",
      "epoch 1 Average loss: 2.514781, Train accuracy: 0.176250, val accuracy: 0.180000\n",
      "epoch 2 Average loss: 2.114996, Train accuracy: 0.345000, val accuracy: 0.300000\n",
      "epoch 3 Average loss: 1.711128, Train accuracy: 0.457500, val accuracy: 0.405000\n",
      "epoch 4 Average loss: 1.398897, Train accuracy: 0.575000, val accuracy: 0.455000\n",
      "epoch 5 Average loss: 1.156807, Train accuracy: 0.652500, val accuracy: 0.485000\n",
      "epoch 6 Average loss: 1.035520, Train accuracy: 0.713750, val accuracy: 0.480000\n",
      "epoch 7 Average loss: 0.869939, Train accuracy: 0.730000, val accuracy: 0.555000\n",
      "epoch 8 Average loss: 0.699769, Train accuracy: 0.811250, val accuracy: 0.530000\n",
      "epoch 9 Average loss: 0.604687, Train accuracy: 0.860000, val accuracy: 0.535000\n",
      "epoch 10 Average loss: 0.570883, Train accuracy: 0.880000, val accuracy: 0.550000\n",
      "epoch 11 Average loss: 0.488146, Train accuracy: 0.892500, val accuracy: 0.595000\n",
      "epoch 12 Average loss: 0.398364, Train accuracy: 0.926250, val accuracy: 0.575000\n",
      "epoch 13 Average loss: 0.403673, Train accuracy: 0.905000, val accuracy: 0.585000\n",
      "epoch 14 Average loss: 0.365892, Train accuracy: 0.922500, val accuracy: 0.575000\n",
      "epoch 15 Average loss: 0.357265, Train accuracy: 0.943750, val accuracy: 0.605000\n",
      "epoch 16 Average loss: 0.313266, Train accuracy: 0.950000, val accuracy: 0.600000\n",
      "epoch 17 Average loss: 0.309771, Train accuracy: 0.942500, val accuracy: 0.585000\n",
      "epoch 18 Average loss: 0.303637, Train accuracy: 0.945000, val accuracy: 0.585000\n",
      "epoch 19 Average loss: 0.300537, Train accuracy: 0.943750, val accuracy: 0.605000\n",
      "epoch 20 Average loss: 0.300659, Train accuracy: 0.943750, val accuracy: 0.590000\n",
      "exp 3 learning_rate = 0.0061 (learning_rate_decay, step_size) = (0.4,4) reg = 3.4e-05 batch_size = 64\n",
      "epoch 1 Average loss: 2.572496, Train accuracy: 0.157500, val accuracy: 0.220000\n",
      "epoch 2 Average loss: 2.196408, Train accuracy: 0.290000, val accuracy: 0.270000\n",
      "epoch 3 Average loss: 1.823162, Train accuracy: 0.417500, val accuracy: 0.355000\n",
      "epoch 4 Average loss: 1.507436, Train accuracy: 0.557500, val accuracy: 0.400000\n",
      "epoch 5 Average loss: 1.260157, Train accuracy: 0.647500, val accuracy: 0.475000\n",
      "epoch 6 Average loss: 1.100219, Train accuracy: 0.685000, val accuracy: 0.455000\n",
      "epoch 7 Average loss: 0.978952, Train accuracy: 0.738750, val accuracy: 0.455000\n",
      "epoch 8 Average loss: 0.779095, Train accuracy: 0.806250, val accuracy: 0.525000\n",
      "epoch 9 Average loss: 0.687764, Train accuracy: 0.832500, val accuracy: 0.535000\n",
      "epoch 10 Average loss: 0.600572, Train accuracy: 0.843750, val accuracy: 0.565000\n",
      "epoch 11 Average loss: 0.543408, Train accuracy: 0.867500, val accuracy: 0.545000\n",
      "epoch 12 Average loss: 0.483530, Train accuracy: 0.893750, val accuracy: 0.560000\n",
      "epoch 13 Average loss: 0.441946, Train accuracy: 0.901250, val accuracy: 0.545000\n",
      "epoch 14 Average loss: 0.416646, Train accuracy: 0.901250, val accuracy: 0.570000\n",
      "epoch 15 Average loss: 0.370528, Train accuracy: 0.931250, val accuracy: 0.565000\n",
      "epoch 16 Average loss: 0.359433, Train accuracy: 0.927500, val accuracy: 0.550000\n",
      "epoch 17 Average loss: 0.384337, Train accuracy: 0.933750, val accuracy: 0.560000\n",
      "epoch 18 Average loss: 0.353400, Train accuracy: 0.940000, val accuracy: 0.555000\n",
      "epoch 19 Average loss: 0.352992, Train accuracy: 0.931250, val accuracy: 0.535000\n",
      "epoch 20 Average loss: 0.354478, Train accuracy: 0.927500, val accuracy: 0.525000\n",
      "exp 4 learning_rate = 0.0061 (learning_rate_decay, step_size) = (0.4,4) reg = 3.4e-05 batch_size = 64\n",
      "epoch 1 Average loss: 2.583518, Train accuracy: 0.175000, val accuracy: 0.165000\n",
      "epoch 2 Average loss: 2.300589, Train accuracy: 0.255000, val accuracy: 0.200000\n",
      "epoch 3 Average loss: 1.952062, Train accuracy: 0.397500, val accuracy: 0.295000\n",
      "epoch 4 Average loss: 1.692825, Train accuracy: 0.510000, val accuracy: 0.345000\n",
      "epoch 5 Average loss: 1.470868, Train accuracy: 0.552500, val accuracy: 0.350000\n",
      "epoch 6 Average loss: 1.267629, Train accuracy: 0.645000, val accuracy: 0.410000\n",
      "epoch 7 Average loss: 1.048396, Train accuracy: 0.710000, val accuracy: 0.495000\n",
      "epoch 8 Average loss: 0.831680, Train accuracy: 0.795000, val accuracy: 0.500000\n",
      "epoch 9 Average loss: 0.723870, Train accuracy: 0.830000, val accuracy: 0.540000\n",
      "epoch 10 Average loss: 0.651677, Train accuracy: 0.831250, val accuracy: 0.540000\n",
      "epoch 11 Average loss: 0.601565, Train accuracy: 0.868750, val accuracy: 0.530000\n",
      "epoch 12 Average loss: 0.533589, Train accuracy: 0.888750, val accuracy: 0.535000\n",
      "epoch 13 Average loss: 0.507685, Train accuracy: 0.887500, val accuracy: 0.555000\n",
      "epoch 14 Average loss: 0.477528, Train accuracy: 0.900000, val accuracy: 0.590000\n",
      "epoch 15 Average loss: 0.452651, Train accuracy: 0.910000, val accuracy: 0.570000\n",
      "epoch 16 Average loss: 0.426863, Train accuracy: 0.915000, val accuracy: 0.595000\n",
      "epoch 17 Average loss: 0.431954, Train accuracy: 0.918750, val accuracy: 0.590000\n",
      "epoch 18 Average loss: 0.410198, Train accuracy: 0.933750, val accuracy: 0.585000\n",
      "epoch 19 Average loss: 0.382845, Train accuracy: 0.928750, val accuracy: 0.570000\n",
      "epoch 20 Average loss: 0.389817, Train accuracy: 0.927500, val accuracy: 0.575000\n",
      "exp 5 learning_rate = 0.0061 (learning_rate_decay, step_size) = (0.4,4) reg = 3.4e-05 batch_size = 64\n",
      "epoch 1 Average loss: 2.607772, Train accuracy: 0.130000, val accuracy: 0.160000\n",
      "epoch 2 Average loss: 2.307794, Train accuracy: 0.256250, val accuracy: 0.230000\n",
      "epoch 3 Average loss: 1.973972, Train accuracy: 0.391250, val accuracy: 0.300000\n",
      "epoch 4 Average loss: 1.599992, Train accuracy: 0.522500, val accuracy: 0.325000\n",
      "epoch 5 Average loss: 1.433813, Train accuracy: 0.585000, val accuracy: 0.385000\n",
      "epoch 6 Average loss: 1.192994, Train accuracy: 0.653750, val accuracy: 0.445000\n",
      "epoch 7 Average loss: 1.052833, Train accuracy: 0.695000, val accuracy: 0.495000\n",
      "epoch 8 Average loss: 0.872299, Train accuracy: 0.756250, val accuracy: 0.480000\n",
      "epoch 9 Average loss: 0.736888, Train accuracy: 0.813750, val accuracy: 0.495000\n",
      "epoch 10 Average loss: 0.690753, Train accuracy: 0.817500, val accuracy: 0.505000\n",
      "epoch 11 Average loss: 0.589523, Train accuracy: 0.852500, val accuracy: 0.550000\n",
      "epoch 12 Average loss: 0.517994, Train accuracy: 0.883750, val accuracy: 0.490000\n",
      "epoch 13 Average loss: 0.502200, Train accuracy: 0.895000, val accuracy: 0.530000\n",
      "epoch 14 Average loss: 0.451221, Train accuracy: 0.905000, val accuracy: 0.560000\n",
      "epoch 15 Average loss: 0.437388, Train accuracy: 0.906250, val accuracy: 0.540000\n",
      "epoch 16 Average loss: 0.399030, Train accuracy: 0.923750, val accuracy: 0.525000\n",
      "epoch 17 Average loss: 0.419788, Train accuracy: 0.917500, val accuracy: 0.530000\n",
      "epoch 18 Average loss: 0.407723, Train accuracy: 0.910000, val accuracy: 0.540000\n",
      "epoch 19 Average loss: 0.401687, Train accuracy: 0.911250, val accuracy: 0.535000\n",
      "epoch 20 Average loss: 0.391027, Train accuracy: 0.926250, val accuracy: 0.555000\n",
      "exp 6 learning_rate = 0.0061 (learning_rate_decay, step_size) = (0.4,4) reg = 3.4e-05 batch_size = 64\n",
      "epoch 1 Average loss: 2.573215, Train accuracy: 0.145000, val accuracy: 0.145000\n",
      "epoch 2 Average loss: 2.164103, Train accuracy: 0.315000, val accuracy: 0.210000\n",
      "epoch 3 Average loss: 1.758922, Train accuracy: 0.447500, val accuracy: 0.380000\n",
      "epoch 4 Average loss: 1.399051, Train accuracy: 0.576250, val accuracy: 0.515000\n",
      "epoch 5 Average loss: 1.149743, Train accuracy: 0.677500, val accuracy: 0.515000\n",
      "epoch 6 Average loss: 0.974832, Train accuracy: 0.722500, val accuracy: 0.505000\n",
      "epoch 7 Average loss: 0.820012, Train accuracy: 0.771250, val accuracy: 0.610000\n",
      "epoch 8 Average loss: 0.639283, Train accuracy: 0.832500, val accuracy: 0.605000\n",
      "epoch 9 Average loss: 0.567215, Train accuracy: 0.863750, val accuracy: 0.600000\n",
      "epoch 10 Average loss: 0.488613, Train accuracy: 0.890000, val accuracy: 0.585000\n",
      "epoch 11 Average loss: 0.485981, Train accuracy: 0.887500, val accuracy: 0.595000\n",
      "epoch 12 Average loss: 0.417493, Train accuracy: 0.905000, val accuracy: 0.595000\n",
      "epoch 13 Average loss: 0.366665, Train accuracy: 0.941250, val accuracy: 0.620000\n",
      "epoch 14 Average loss: 0.333484, Train accuracy: 0.938750, val accuracy: 0.605000\n",
      "epoch 15 Average loss: 0.343916, Train accuracy: 0.931250, val accuracy: 0.620000\n",
      "epoch 16 Average loss: 0.309661, Train accuracy: 0.953750, val accuracy: 0.595000\n",
      "epoch 17 Average loss: 0.304980, Train accuracy: 0.947500, val accuracy: 0.645000\n",
      "epoch 18 Average loss: 0.287204, Train accuracy: 0.961250, val accuracy: 0.620000\n",
      "epoch 19 Average loss: 0.275041, Train accuracy: 0.955000, val accuracy: 0.640000\n",
      "epoch 20 Average loss: 0.272150, Train accuracy: 0.956250, val accuracy: 0.625000\n",
      "exp 7 learning_rate = 0.0061 (learning_rate_decay, step_size) = (0.4,4) reg = 3.4e-05 batch_size = 64\n",
      "epoch 1 Average loss: 2.518036, Train accuracy: 0.158750, val accuracy: 0.210000\n",
      "epoch 2 Average loss: 2.016016, Train accuracy: 0.372500, val accuracy: 0.315000\n",
      "epoch 3 Average loss: 1.642851, Train accuracy: 0.482500, val accuracy: 0.390000\n",
      "epoch 4 Average loss: 1.282900, Train accuracy: 0.608750, val accuracy: 0.460000\n",
      "epoch 5 Average loss: 1.058780, Train accuracy: 0.692500, val accuracy: 0.460000\n",
      "epoch 6 Average loss: 0.919998, Train accuracy: 0.736250, val accuracy: 0.555000\n",
      "epoch 7 Average loss: 0.781505, Train accuracy: 0.777500, val accuracy: 0.525000\n",
      "epoch 8 Average loss: 0.630820, Train accuracy: 0.841250, val accuracy: 0.600000\n",
      "epoch 9 Average loss: 0.564672, Train accuracy: 0.860000, val accuracy: 0.575000\n",
      "epoch 10 Average loss: 0.509711, Train accuracy: 0.886250, val accuracy: 0.555000\n",
      "epoch 11 Average loss: 0.439551, Train accuracy: 0.905000, val accuracy: 0.550000\n",
      "epoch 12 Average loss: 0.373127, Train accuracy: 0.925000, val accuracy: 0.620000\n",
      "epoch 13 Average loss: 0.345482, Train accuracy: 0.927500, val accuracy: 0.580000\n",
      "epoch 14 Average loss: 0.339769, Train accuracy: 0.930000, val accuracy: 0.595000\n",
      "epoch 15 Average loss: 0.303765, Train accuracy: 0.961250, val accuracy: 0.590000\n",
      "epoch 16 Average loss: 0.282118, Train accuracy: 0.961250, val accuracy: 0.595000\n",
      "epoch 17 Average loss: 0.284051, Train accuracy: 0.948750, val accuracy: 0.585000\n",
      "epoch 18 Average loss: 0.272669, Train accuracy: 0.948750, val accuracy: 0.615000\n",
      "epoch 19 Average loss: 0.253656, Train accuracy: 0.966250, val accuracy: 0.610000\n",
      "epoch 20 Average loss: 0.254913, Train accuracy: 0.958750, val accuracy: 0.605000\n",
      "exp 8 learning_rate = 0.0061 (learning_rate_decay, step_size) = (0.4,4) reg = 3.4e-05 batch_size = 64\n",
      "epoch 1 Average loss: 2.605974, Train accuracy: 0.131250, val accuracy: 0.210000\n",
      "epoch 2 Average loss: 2.240266, Train accuracy: 0.286250, val accuracy: 0.255000\n",
      "epoch 3 Average loss: 1.900655, Train accuracy: 0.423750, val accuracy: 0.440000\n",
      "epoch 4 Average loss: 1.559447, Train accuracy: 0.550000, val accuracy: 0.440000\n",
      "epoch 5 Average loss: 1.311826, Train accuracy: 0.645000, val accuracy: 0.515000\n",
      "epoch 6 Average loss: 1.115439, Train accuracy: 0.688750, val accuracy: 0.525000\n",
      "epoch 7 Average loss: 0.907108, Train accuracy: 0.750000, val accuracy: 0.535000\n",
      "epoch 8 Average loss: 0.731649, Train accuracy: 0.800000, val accuracy: 0.590000\n",
      "epoch 9 Average loss: 0.637675, Train accuracy: 0.846250, val accuracy: 0.590000\n",
      "epoch 10 Average loss: 0.593105, Train accuracy: 0.858750, val accuracy: 0.565000\n",
      "epoch 11 Average loss: 0.514290, Train accuracy: 0.896250, val accuracy: 0.600000\n",
      "epoch 12 Average loss: 0.478268, Train accuracy: 0.901250, val accuracy: 0.610000\n",
      "epoch 13 Average loss: 0.429566, Train accuracy: 0.910000, val accuracy: 0.590000\n",
      "epoch 14 Average loss: 0.407432, Train accuracy: 0.916250, val accuracy: 0.610000\n",
      "epoch 15 Average loss: 0.398062, Train accuracy: 0.923750, val accuracy: 0.600000\n",
      "epoch 16 Average loss: 0.357113, Train accuracy: 0.927500, val accuracy: 0.570000\n",
      "epoch 17 Average loss: 0.359525, Train accuracy: 0.933750, val accuracy: 0.590000\n",
      "epoch 18 Average loss: 0.355529, Train accuracy: 0.948750, val accuracy: 0.580000\n",
      "epoch 19 Average loss: 0.335093, Train accuracy: 0.936250, val accuracy: 0.590000\n",
      "epoch 20 Average loss: 0.321571, Train accuracy: 0.946250, val accuracy: 0.575000\n",
      "exp 9 learning_rate = 0.0061 (learning_rate_decay, step_size) = (0.4,4) reg = 3.4e-05 batch_size = 64\n",
      "epoch 1 Average loss: 2.507687, Train accuracy: 0.182500, val accuracy: 0.115000\n",
      "epoch 2 Average loss: 2.117192, Train accuracy: 0.333750, val accuracy: 0.275000\n",
      "epoch 3 Average loss: 1.738950, Train accuracy: 0.442500, val accuracy: 0.345000\n",
      "epoch 4 Average loss: 1.376610, Train accuracy: 0.570000, val accuracy: 0.430000\n",
      "epoch 5 Average loss: 1.189648, Train accuracy: 0.661250, val accuracy: 0.440000\n",
      "epoch 6 Average loss: 1.043765, Train accuracy: 0.703750, val accuracy: 0.490000\n",
      "epoch 7 Average loss: 0.868638, Train accuracy: 0.761250, val accuracy: 0.520000\n",
      "epoch 8 Average loss: 0.700121, Train accuracy: 0.826250, val accuracy: 0.560000\n",
      "epoch 9 Average loss: 0.639211, Train accuracy: 0.832500, val accuracy: 0.570000\n",
      "epoch 10 Average loss: 0.553977, Train accuracy: 0.863750, val accuracy: 0.590000\n",
      "epoch 11 Average loss: 0.515965, Train accuracy: 0.886250, val accuracy: 0.575000\n",
      "epoch 12 Average loss: 0.448604, Train accuracy: 0.900000, val accuracy: 0.585000\n",
      "epoch 13 Average loss: 0.420343, Train accuracy: 0.917500, val accuracy: 0.585000\n",
      "epoch 14 Average loss: 0.376525, Train accuracy: 0.922500, val accuracy: 0.600000\n",
      "epoch 15 Average loss: 0.364364, Train accuracy: 0.936250, val accuracy: 0.575000\n",
      "epoch 16 Average loss: 0.352323, Train accuracy: 0.928750, val accuracy: 0.585000\n",
      "epoch 17 Average loss: 0.328318, Train accuracy: 0.935000, val accuracy: 0.555000\n",
      "epoch 18 Average loss: 0.322786, Train accuracy: 0.948750, val accuracy: 0.585000\n",
      "epoch 19 Average loss: 0.305111, Train accuracy: 0.957500, val accuracy: 0.595000\n",
      "epoch 20 Average loss: 0.314923, Train accuracy: 0.952500, val accuracy: 0.595000\n"
     ]
    }
   ],
   "source": [
    "# The key hyperparameters we're going to tune are learning speed, annealing rate and regularization\n",
    "# We also encourage you to try different optimizers as well\n",
    "Hyperparams = namedtuple(\"Hyperparams\", ['learning_rate', 'gamma', 'step_size', 'reg'])\n",
    "RunResult = namedtuple(\"RunResult\", ['model', 'train_history', 'val_history', 'final_val_accuracy'])\n",
    "\n",
    "run_record = {}\n",
    "epoch_num = 20\n",
    "loss = nn.CrossEntropyLoss().type(torch.FloatTensor)\n",
    "for i in range(10):\n",
    "\n",
    "    my_model = nn.Sequential(\n",
    "      nn.Conv2d(3, 6, 5, padding=0),\n",
    "      nn.ReLU(inplace=True),\n",
    "      nn.BatchNorm2d(6),\n",
    "      nn.MaxPool2d(2),\n",
    "      nn.Conv2d(6, 16, 5, padding=0),\n",
    "      nn.ReLU(inplace=True),\n",
    "      nn.BatchNorm2d(16),\n",
    "      nn.MaxPool2d(2),\n",
    "      Flattener(),\n",
    "      nn.Linear(16*5*5, 120),\n",
    "      nn.ReLU(inplace=True),\n",
    "      nn.BatchNorm1d(120),\n",
    "      nn.Linear(120, 84),\n",
    "      nn.ReLU(inplace=True),\n",
    "      nn.BatchNorm1d(84),\n",
    "      nn.Linear(84, 10)\n",
    "      )\n",
    "\n",
    "    #lr = 10**np.random.uniform(-5, -1)\n",
    "    lr = 0.0061\n",
    "    reg = 3.4e-5\n",
    "    gamma = 0.5\n",
    "    step_size = 4\n",
    "    print(f\"exp {i}\", \"learning_rate =\", lr, \"(learning_rate_decay, step_size) =\", f\"({gamma},{step_size})\", \"reg =\", reg, \"batch_size =\", batch_size)\n",
    "\n",
    "\n",
    "    optimizer = optim.Adam(my_model.parameters(), lr=lr, weight_decay=reg)\n",
    "    scheduler = torch.optim.lr_scheduler.StepLR(optimizer, step_size=step_size, gamma=gamma)\n",
    "    loss_history, train_history, val_history = train_model(my_model, train_loader, val_loader, loss, optimizer, scheduler, epoch_num)\n",
    "    hp = Hyperparams(learning_rate=lr, gamma=gamma, reg=reg, step_size=step_size)\n",
    "    rr = RunResult(model = my_model, train_history = train_history, val_history=val_history, final_val_accuracy=val_history[-1])\n",
    "    run_record[hp] = rr"
   ],
   "metadata": {
    "collapsed": false
   }
  },
  {
   "cell_type": "code",
   "execution_count": 147,
   "outputs": [],
   "source": [
    "result = sorted(list(run_record.items()),key=lambda x:x[1].final_val_accuracy)[::-1]"
   ],
   "metadata": {
    "collapsed": false
   }
  },
  {
   "cell_type": "code",
   "execution_count": 148,
   "outputs": [
    {
     "name": "stdout",
     "output_type": "stream",
     "text": [
      "Hyperparams(learning_rate=0.0061, gamma=0.4, step_size=4, reg=3.4e-05) 0.595\n"
     ]
    }
   ],
   "source": [
    "for a,b in result:\n",
    "    print(a, b.final_val_accuracy)"
   ],
   "metadata": {
    "collapsed": false
   }
  },
  {
   "cell_type": "code",
   "execution_count": 149,
   "outputs": [
    {
     "data": {
      "text/plain": "<matplotlib.collections.PathCollection at 0x1ed474716f0>"
     },
     "execution_count": 149,
     "metadata": {},
     "output_type": "execute_result"
    },
    {
     "data": {
      "text/plain": "<Figure size 640x480 with 1 Axes>",
      "image/png": "[encoded data removed]"
     },
     "metadata": {},
     "output_type": "display_data"
    }
   ],
   "source": [
    "plt.scatter([a.learning_rate for a,b in result], [b.final_val_accuracy for a,b in result])"
   ],
   "metadata": {
    "collapsed": false
   }
  },
  {
   "cell_type": "code",
   "execution_count": 150,
   "outputs": [
    {
     "data": {
      "text/plain": "<matplotlib.collections.PathCollection at 0x1ed4b6c74c0>"
     },
     "execution_count": 150,
     "metadata": {},
     "output_type": "execute_result"
    },
    {
     "data": {
      "text/plain": "<Figure size 640x480 with 1 Axes>",
      "image/png": "[encoded data removed]"
     },
     "metadata": {},
     "output_type": "display_data"
    }
   ],
   "source": [
    "plt.scatter([a.reg for a,b in result], [b.final_val_accuracy for a,b in result])"
   ],
   "metadata": {
    "collapsed": false
   }
  },
  {
   "cell_type": "code",
   "execution_count": 151,
   "outputs": [
    {
     "data": {
      "text/plain": "<matplotlib.collections.PathCollection at 0x1ed4cb89d20>"
     },
     "execution_count": 151,
     "metadata": {},
     "output_type": "execute_result"
    },
    {
     "data": {
      "text/plain": "<Figure size 640x480 with 1 Axes>",
      "image/png": "[encoded data removed]"
     },
     "metadata": {},
     "output_type": "display_data"
    }
   ],
   "source": [
    "plt.scatter([a.gamma for a,b in result], [b.final_val_accuracy for a,b in result])"
   ],
   "metadata": {
    "collapsed": false
   }
  },
  {
   "cell_type": "code",
   "execution_count": 152,
   "outputs": [
    {
     "data": {
      "text/plain": "<matplotlib.collections.PathCollection at 0x1ed4cb4a530>"
     },
     "execution_count": 152,
     "metadata": {},
     "output_type": "execute_result"
    },
    {
     "data": {
      "text/plain": "<Figure size 640x480 with 1 Axes>",
      "image/png": "[encoded data removed]"
     },
     "metadata": {},
     "output_type": "display_data"
    }
   ],
   "source": [
    "plt.scatter([b.final_val_accuracy for a,b in result], [a.learning_rate*a.gamma for a,b in result])"
   ],
   "metadata": {
    "collapsed": false
   }
  },
  {
   "cell_type": "code",
   "execution_count": 153,
   "outputs": [
    {
     "name": "stdout",
     "output_type": "stream",
     "text": [
      "Test accuracy: 0.6064\n"
     ]
    }
   ],
   "source": [
    "test_loader = torch.utils.data.DataLoader(data_test, batch_size=batch_size)\n",
    "test_accuracy = compute_accuracy(my_model, test_loader)\n",
    "print(\"Test accuracy: %2.4f\" % test_accuracy)"
   ],
   "metadata": {
    "collapsed": false
   }
  },
  {
   "cell_type": "code",
   "execution_count": 153,
   "outputs": [],
   "source": [],
   "metadata": {
    "collapsed": false
   }
  }
 ],
 "metadata": {
  "kernelspec": {
   "display_name": "Python 3",
   "language": "python",
   "name": "python3"
  },
  "language_info": {
   "codemirror_mode": {
    "name": "ipython",
    "version": 2
   },
   "file_extension": ".py",
   "mimetype": "text/x-python",
   "name": "python",
   "nbconvert_exporter": "python",
   "pygments_lexer": "ipython2",
   "version": "2.7.6"
  }
 },
 "nbformat": 4,
 "nbformat_minor": 0
}
